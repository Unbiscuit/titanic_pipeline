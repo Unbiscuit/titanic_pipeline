{
 "cells": [
  {
   "cell_type": "code",
   "execution_count": 1,
   "id": "bc1ced05",
   "metadata": {
    "execution": {
     "iopub.execute_input": "2023-12-08T19:37:25.015169Z",
     "iopub.status.busy": "2023-12-08T19:37:25.014494Z",
     "iopub.status.idle": "2023-12-08T19:37:25.438039Z",
     "shell.execute_reply": "2023-12-08T19:37:25.437480Z"
    },
    "papermill": {
     "duration": 0.435208,
     "end_time": "2023-12-08T19:37:25.439312",
     "exception": false,
     "start_time": "2023-12-08T19:37:25.004104",
     "status": "completed"
    },
    "tags": []
   },
   "outputs": [],
   "source": [
    "import pandas as pd\n",
    "import numpy as np"
   ]
  },
  {
   "cell_type": "code",
   "execution_count": 2,
   "id": "22805c33",
   "metadata": {
    "execution": {
     "iopub.execute_input": "2023-12-08T19:37:25.443431Z",
     "iopub.status.busy": "2023-12-08T19:37:25.442970Z",
     "iopub.status.idle": "2023-12-08T19:37:25.448270Z",
     "shell.execute_reply": "2023-12-08T19:37:25.447689Z"
    },
    "papermill": {
     "duration": 0.008694,
     "end_time": "2023-12-08T19:37:25.449553",
     "exception": false,
     "start_time": "2023-12-08T19:37:25.440859",
     "status": "completed"
    },
    "tags": []
   },
   "outputs": [],
   "source": [
    "df = pd.read_csv('/home/uncookie/Documents/titanic_pipeline/df_after_preprocessing.csv')"
   ]
  },
  {
   "cell_type": "code",
   "execution_count": 3,
   "id": "07f7b1e8",
   "metadata": {
    "execution": {
     "iopub.execute_input": "2023-12-08T19:37:25.453425Z",
     "iopub.status.busy": "2023-12-08T19:37:25.453107Z",
     "iopub.status.idle": "2023-12-08T19:37:25.459279Z",
     "shell.execute_reply": "2023-12-08T19:37:25.458655Z"
    },
    "papermill": {
     "duration": 0.010123,
     "end_time": "2023-12-08T19:37:25.460982",
     "exception": false,
     "start_time": "2023-12-08T19:37:25.450859",
     "status": "completed"
    },
    "tags": []
   },
   "outputs": [],
   "source": [
    "def use_lr_to_a_column(df, column):\n",
    "    from sklearn.linear_model import LinearRegression\n",
    "    test_data = df[df[column].isnull()]\n",
    "    df.dropna(inplace=True)\n",
    "    x_train = df.drop(column,axis=1)\n",
    "    x_train = x_train.drop('Survived',axis=1)\n",
    "    y_train = df[column]\n",
    "    lr = LinearRegression()\n",
    "    lr.fit(x_train, y_train)\n",
    "    x_test = test_data[['Pclass','Sex', 'SibSp', 'Parch', 'Fare']]\n",
    "    y_pred = lr.predict(x_test)\n",
    "    return y_pred\n",
    "\n",
    "def fill_nan_with_lr(df):\n",
    "    df_without_age = df.loc[:, df.columns != 'Age']\n",
    "    df_without_cabin = df.loc[:, df.columns != 'Cabin']\n",
    "    a = pd.Series(use_lr_to_a_column(df_without_age, 'Cabin'))\n",
    "    b = pd.Series(use_lr_to_a_column(df_without_cabin, 'Age'))\n",
    "\n",
    "    nan_indices = df[df['Cabin'].isna()].index\n",
    "    for index, replacement_value in zip(nan_indices, a):\n",
    "        df.at[index, 'Cabin'] = replacement_value\n",
    "\n",
    "    nan_indices = df[df['Age'].isna()].index\n",
    "    for index, replacement_value in zip(nan_indices, b):\n",
    "        df.at[index, 'Age'] = replacement_value\n",
    "\n",
    "    return df"
   ]
  },
  {
   "cell_type": "code",
   "execution_count": 4,
   "id": "3c152b63",
   "metadata": {
    "execution": {
     "iopub.execute_input": "2023-12-08T19:37:25.466910Z",
     "iopub.status.busy": "2023-12-08T19:37:25.466577Z",
     "iopub.status.idle": "2023-12-08T19:37:25.861392Z",
     "shell.execute_reply": "2023-12-08T19:37:25.860738Z"
    },
    "papermill": {
     "duration": 0.39929,
     "end_time": "2023-12-08T19:37:25.862949",
     "exception": false,
     "start_time": "2023-12-08T19:37:25.463659",
     "status": "completed"
    },
    "tags": []
   },
   "outputs": [
    {
     "name": "stderr",
     "output_type": "stream",
     "text": [
      "/tmp/ipykernel_45399/1226395653.py:4: SettingWithCopyWarning: \n",
      "A value is trying to be set on a copy of a slice from a DataFrame\n",
      "\n",
      "See the caveats in the documentation: https://pandas.pydata.org/pandas-docs/stable/user_guide/indexing.html#returning-a-view-versus-a-copy\n",
      "  df.dropna(inplace=True)\n",
      "/tmp/ipykernel_45399/1226395653.py:4: SettingWithCopyWarning: \n",
      "A value is trying to be set on a copy of a slice from a DataFrame\n",
      "\n",
      "See the caveats in the documentation: https://pandas.pydata.org/pandas-docs/stable/user_guide/indexing.html#returning-a-view-versus-a-copy\n",
      "  df.dropna(inplace=True)\n"
     ]
    }
   ],
   "source": [
    "df = fill_nan_with_lr(df)\n",
    "df.to_csv(\"df_after_lr.csv\", index=False)"
   ]
  },
  {
   "cell_type": "code",
   "execution_count": 5,
   "id": "ff55527e",
   "metadata": {
    "execution": {
     "iopub.execute_input": "2023-12-08T19:37:25.869974Z",
     "iopub.status.busy": "2023-12-08T19:37:25.869358Z",
     "iopub.status.idle": "2023-12-08T19:37:25.872986Z",
     "shell.execute_reply": "2023-12-08T19:37:25.872509Z"
    },
    "papermill": {
     "duration": 0.008683,
     "end_time": "2023-12-08T19:37:25.874402",
     "exception": false,
     "start_time": "2023-12-08T19:37:25.865719",
     "status": "completed"
    },
    "tags": []
   },
   "outputs": [],
   "source": [
    "import numpy as np\n",
    "from sklearn.model_selection import train_test_split\n",
    "\n",
    "y = df['Survived']\n",
    "df = df.loc[:, df.columns != 'Survived']"
   ]
  },
  {
   "cell_type": "code",
   "execution_count": 6,
   "id": "390ea77e",
   "metadata": {
    "execution": {
     "iopub.execute_input": "2023-12-08T19:37:25.880289Z",
     "iopub.status.busy": "2023-12-08T19:37:25.880128Z",
     "iopub.status.idle": "2023-12-08T19:37:25.886080Z",
     "shell.execute_reply": "2023-12-08T19:37:25.885539Z"
    },
    "papermill": {
     "duration": 0.010681,
     "end_time": "2023-12-08T19:37:25.887651",
     "exception": false,
     "start_time": "2023-12-08T19:37:25.876970",
     "status": "completed"
    },
    "tags": []
   },
   "outputs": [],
   "source": [
    "df = (df-df.mean())/df.std()\n",
    "\n",
    "X_train, X_test, y_train, y_test = train_test_split(df, y, test_size=0.2, random_state=42)"
   ]
  },
  {
   "cell_type": "code",
   "execution_count": 7,
   "id": "8008da52",
   "metadata": {
    "execution": {
     "iopub.execute_input": "2023-12-08T19:37:25.893589Z",
     "iopub.status.busy": "2023-12-08T19:37:25.893395Z",
     "iopub.status.idle": "2023-12-08T19:37:29.797809Z",
     "shell.execute_reply": "2023-12-08T19:37:29.797004Z"
    },
    "papermill": {
     "duration": 3.910111,
     "end_time": "2023-12-08T19:37:29.800398",
     "exception": false,
     "start_time": "2023-12-08T19:37:25.890287",
     "status": "completed"
    },
    "tags": []
   },
   "outputs": [
    {
     "name": "stderr",
     "output_type": "stream",
     "text": [
      "2023-12-08 22:37:25.989434: I tensorflow/core/platform/cpu_feature_guard.cc:182] This TensorFlow binary is optimized to use available CPU instructions in performance-critical operations.\n",
      "To enable the following instructions: SSE4.1 SSE4.2 AVX AVX2 FMA, in other operations, rebuild TensorFlow with the appropriate compiler flags.\n"
     ]
    },
    {
     "name": "stdout",
     "output_type": "stream",
     "text": [
      "Epoch 1/20\n"
     ]
    },
    {
     "name": "stderr",
     "output_type": "stream",
     "text": [
      "2023-12-08 22:37:27.155330: I tensorflow/core/common_runtime/process_util.cc:146] Creating new thread pool with default inter op setting: 2. Tune using inter_op_parallelism_threads for best performance.\n"
     ]
    },
    {
     "name": "stdout",
     "output_type": "stream",
     "text": [
      "\r",
      " 1/36 [..............................] - ETA: 17s - loss: 0.6899 - accuracy: 0.3750"
     ]
    },
    {
     "name": "stdout",
     "output_type": "stream",
     "text": [
      "\b\b\b\b\b\b\b\b\b\b\b\b\b\b\b\b\b\b\b\b\b\b\b\b\b\b\b\b\b\b\b\b\b\b\b\b\b\b\b\b\b\b\b\b\b\b\b\b\b\b\b\b\b\b\b\b\b\b\b\b\b\b\b\b\b\b\b\b\b\b\b\b\b\b\b\b\b\b\b\b\b\b\b\r",
      "23/36 [==================>...........] - ETA: 0s - loss: 0.6171 - accuracy: 0.7038 "
     ]
    },
    {
     "name": "stdout",
     "output_type": "stream",
     "text": [
      "\b\b\b\b\b\b\b\b\b\b\b\b\b\b\b\b\b\b\b\b\b\b\b\b\b\b\b\b\b\b\b\b\b\b\b\b\b\b\b\b\b\b\b\b\b\b\b\b\b\b\b\b\b\b\b\b\b\b\b\b\b\b\b\b\b\b\b\b\b\b\b\b\b\b\b\b\b\b\b\b\b\b\r",
      "36/36 [==============================] - 1s 15ms/step - loss: 0.5917 - accuracy: 0.7276 - val_loss: 0.5248 - val_accuracy: 0.7762\n"
     ]
    },
    {
     "name": "stdout",
     "output_type": "stream",
     "text": [
      "Epoch 2/20\n"
     ]
    },
    {
     "name": "stdout",
     "output_type": "stream",
     "text": [
      "\r",
      " 1/36 [..............................] - ETA: 0s - loss: 0.5267 - accuracy: 0.7500"
     ]
    },
    {
     "name": "stdout",
     "output_type": "stream",
     "text": [
      "\b\b\b\b\b\b\b\b\b\b\b\b\b\b\b\b\b\b\b\b\b\b\b\b\b\b\b\b\b\b\b\b\b\b\b\b\b\b\b\b\b\b\b\b\b\b\b\b\b\b\b\b\b\b\b\b\b\b\b\b\b\b\b\b\b\b\b\b\b\b\b\b\b\b\b\b\b\b\b\b\b\b\r",
      "20/36 [===============>..............] - ETA: 0s - loss: 0.5220 - accuracy: 0.7937"
     ]
    },
    {
     "name": "stdout",
     "output_type": "stream",
     "text": [
      "\b\b\b\b\b\b\b\b\b\b\b\b\b\b\b\b\b\b\b\b\b\b\b\b\b\b\b\b\b\b\b\b\b\b\b\b\b\b\b\b\b\b\b\b\b\b\b\b\b\b\b\b\b\b\b\b\b\b\b\b\b\b\b\b\b\b\b\b\b\b\b\b\b\b\b\b\b\b\b\b\b\b\r",
      "29/36 [=======================>......] - ETA: 0s - loss: 0.5140 - accuracy: 0.8039"
     ]
    },
    {
     "name": "stdout",
     "output_type": "stream",
     "text": [
      "\b\b\b\b\b\b\b\b\b\b\b\b\b\b\b\b\b\b\b\b\b\b\b\b\b\b\b\b\b\b\b\b\b\b\b\b\b\b\b\b\b\b\b\b\b\b\b\b\b\b\b\b\b\b\b\b\b\b\b\b\b\b\b\b\b\b\b\b\b\b\b\b\b\b\b\b\b\b\b\b\b\b\r",
      "36/36 [==============================] - 0s 7ms/step - loss: 0.5183 - accuracy: 0.7944 - val_loss: 0.4698 - val_accuracy: 0.8252\n"
     ]
    },
    {
     "name": "stdout",
     "output_type": "stream",
     "text": [
      "Epoch 3/20\n"
     ]
    },
    {
     "name": "stdout",
     "output_type": "stream",
     "text": [
      "\r",
      " 1/36 [..............................] - ETA: 0s - loss: 0.7305 - accuracy: 0.5625"
     ]
    },
    {
     "name": "stdout",
     "output_type": "stream",
     "text": [
      "\b\b\b\b\b\b\b\b\b\b\b\b\b\b\b\b\b\b\b\b\b\b\b\b\b\b\b\b\b\b\b\b\b\b\b\b\b\b\b\b\b\b\b\b\b\b\b\b\b\b\b\b\b\b\b\b\b\b\b\b\b\b\b\b\b\b\b\b\b\b\b\b\b\b\b\b\b\b\b\b\b\b\r",
      "10/36 [=======>......................] - ETA: 0s - loss: 0.5535 - accuracy: 0.7188"
     ]
    },
    {
     "name": "stdout",
     "output_type": "stream",
     "text": [
      "\b\b\b\b\b\b\b\b\b\b\b\b\b\b\b\b\b\b\b\b\b\b\b\b\b\b\b\b\b\b\b\b\b\b\b\b\b\b\b\b\b\b\b\b\b\b\b\b\b\b\b\b\b\b\b\b\b\b\b\b\b\b\b\b\b\b\b\b\b\b\b\b\b\b\b\b\b\b\b\b\b\b\r",
      "16/36 [============>.................] - ETA: 0s - loss: 0.5136 - accuracy: 0.7695"
     ]
    },
    {
     "name": "stdout",
     "output_type": "stream",
     "text": [
      "\b\b\b\b\b\b\b\b\b\b\b\b\b\b\b\b\b\b\b\b\b\b\b\b\b\b\b\b\b\b\b\b\b\b\b\b\b\b\b\b\b\b\b\b\b\b\b\b\b\b\b\b\b\b\b\b\b\b\b\b\b\b\b\b\b\b\b\b\b\b\b\b\b\b\b\b\b\b\b\b\b\b\r",
      "30/36 [========================>.....] - ETA: 0s - loss: 0.4814 - accuracy: 0.8042"
     ]
    },
    {
     "name": "stdout",
     "output_type": "stream",
     "text": [
      "\b\b\b\b\b\b\b\b\b\b\b\b\b\b\b\b\b\b\b\b\b\b\b\b\b\b\b\b\b\b\b\b\b\b\b\b\b\b\b\b\b\b\b\b\b\b\b\b\b\b\b\b\b\b\b\b\b\b\b\b\b\b\b\b\b\b\b\b\b\b\b\b\b\b\b\b\b\b\b\b\b\b\r",
      "36/36 [==============================] - 0s 9ms/step - loss: 0.4822 - accuracy: 0.7996 - val_loss: 0.4367 - val_accuracy: 0.8252\n"
     ]
    },
    {
     "name": "stdout",
     "output_type": "stream",
     "text": [
      "Epoch 4/20\n"
     ]
    },
    {
     "name": "stdout",
     "output_type": "stream",
     "text": [
      "\r",
      " 1/36 [..............................] - ETA: 1s - loss: 0.3771 - accuracy: 0.8750"
     ]
    },
    {
     "name": "stdout",
     "output_type": "stream",
     "text": [
      "\b\b\b\b\b\b\b\b\b\b\b\b\b\b\b\b\b\b\b\b\b\b\b\b\b\b\b\b\b\b\b\b\b\b\b\b\b\b\b\b\b\b\b\b\b\b\b\b\b\b\b\b\b\b\b\b\b\b\b\b\b\b\b\b\b\b\b\b\b\b\b\b\b\b\b\b\b\b\b\b\b\b\r",
      "11/36 [========>.....................] - ETA: 0s - loss: 0.4492 - accuracy: 0.8239"
     ]
    },
    {
     "name": "stdout",
     "output_type": "stream",
     "text": [
      "\b\b\b\b\b\b\b\b\b\b\b\b\b\b\b\b\b\b\b\b\b\b\b\b\b\b\b\b\b\b\b\b\b\b\b\b\b\b\b\b\b\b\b\b\b\b\b\b\b\b\b\b\b\b\b\b\b\b\b\b\b\b\b\b\b\b\b\b\b\b\b\b\b\b\b\b\b\b\b\b\b\b\r",
      "29/36 [=======================>......] - ETA: 0s - loss: 0.4483 - accuracy: 0.8125"
     ]
    },
    {
     "name": "stdout",
     "output_type": "stream",
     "text": [
      "\b\b\b\b\b\b\b\b\b\b\b\b\b\b\b\b\b\b\b\b\b\b\b\b\b\b\b\b\b\b\b\b\b\b\b\b\b\b\b\b\b\b\b\b\b\b\b\b\b\b\b\b\b\b\b\b\b\b\b\b\b\b\b\b\b\b\b\b\b\b\b\b\b\b\b\b\b\b\b\b\b\b\r",
      "36/36 [==============================] - 0s 9ms/step - loss: 0.4622 - accuracy: 0.8102 - val_loss: 0.4206 - val_accuracy: 0.8112\n"
     ]
    },
    {
     "name": "stdout",
     "output_type": "stream",
     "text": [
      "Epoch 5/20\n"
     ]
    },
    {
     "name": "stdout",
     "output_type": "stream",
     "text": [
      "\r",
      " 1/36 [..............................] - ETA: 0s - loss: 0.4271 - accuracy: 0.8125"
     ]
    },
    {
     "name": "stdout",
     "output_type": "stream",
     "text": [
      "\b\b\b\b\b\b\b\b\b\b\b\b\b\b\b\b\b\b\b\b\b\b\b\b\b\b\b\b\b\b\b\b\b\b\b\b\b\b\b\b\b\b\b\b\b\b\b\b\b\b\b\b\b\b\b\b\b\b\b\b\b\b\b\b\b\b\b\b\b\b\b\b\b\b\b\b\b\b\b\b\b\b\r",
      "22/36 [=================>............] - ETA: 0s - loss: 0.4389 - accuracy: 0.8267"
     ]
    },
    {
     "name": "stdout",
     "output_type": "stream",
     "text": [
      "\b\b\b\b\b\b\b\b\b\b\b\b\b\b\b\b\b\b\b\b\b\b\b\b\b\b\b\b\b\b\b\b\b\b\b\b\b\b\b\b\b\b\b\b\b\b\b\b\b\b\b\b\b\b\b\b\b\b\b\b\b\b\b\b\b\b\b\b\b\b\b\b\b\b\b\b\b\b\b\b\b\b\r",
      "35/36 [============================>.] - ETA: 0s - loss: 0.4483 - accuracy: 0.8161"
     ]
    },
    {
     "name": "stdout",
     "output_type": "stream",
     "text": [
      "\b\b\b\b\b\b\b\b\b\b\b\b\b\b\b\b\b\b\b\b\b\b\b\b\b\b\b\b\b\b\b\b\b\b\b\b\b\b\b\b\b\b\b\b\b\b\b\b\b\b\b\b\b\b\b\b\b\b\b\b\b\b\b\b\b\b\b\b\b\b\b\b\b\b\b\b\b\b\b\b\b\b\r",
      "36/36 [==============================] - 0s 7ms/step - loss: 0.4508 - accuracy: 0.8155 - val_loss: 0.4129 - val_accuracy: 0.8182\n"
     ]
    },
    {
     "name": "stdout",
     "output_type": "stream",
     "text": [
      "Epoch 6/20\n"
     ]
    },
    {
     "name": "stdout",
     "output_type": "stream",
     "text": [
      "\r",
      " 1/36 [..............................] - ETA: 0s - loss: 0.4191 - accuracy: 0.8125"
     ]
    },
    {
     "name": "stdout",
     "output_type": "stream",
     "text": [
      "\b\b\b\b\b\b\b\b\b\b\b\b\b\b\b\b\b\b\b\b\b\b\b\b\b\b\b\b\b\b\b\b\b\b\b\b\b\b\b\b\b\b\b\b\b\b\b\b\b\b\b\b\b\b\b\b\b\b\b\b\b\b\b\b\b\b\b\b\b\b\b\b\b\b\b\b\b\b\b\b\b\b\r",
      "15/36 [===========>..................] - ETA: 0s - loss: 0.4514 - accuracy: 0.8167"
     ]
    },
    {
     "name": "stdout",
     "output_type": "stream",
     "text": [
      "\b\b\b\b\b\b\b\b\b\b\b\b\b\b\b\b\b\b\b\b\b\b\b\b\b\b\b\b\b\b\b\b\b\b\b\b\b\b\b\b\b\b\b\b\b\b\b\b\b\b\b\b\b\b\b\b\b\b\b\b\b\b\b\b\b\b\b\b\b\b\b\b\b\b\b\b\b\b\b\b\b\b\r",
      "23/36 [==================>...........] - ETA: 0s - loss: 0.4554 - accuracy: 0.8016"
     ]
    },
    {
     "name": "stdout",
     "output_type": "stream",
     "text": [
      "\b\b\b\b\b\b\b\b\b\b\b\b\b\b\b\b\b\b\b\b\b\b\b\b\b\b\b\b\b\b\b\b\b\b\b\b\b\b\b\b\b\b\b\b\b\b\b\b\b\b\b\b\b\b\b\b\b\b\b\b\b\b\b\b\b\b\b\b\b\b\b\b\b\b\b\b\b\b\b\b\b\b\r",
      "36/36 [==============================] - 0s 7ms/step - loss: 0.4424 - accuracy: 0.8155 - val_loss: 0.4056 - val_accuracy: 0.8182\n"
     ]
    }
   ],
   "source": [
    "from tensorflow import keras\n",
    "from keras import backend as K\n",
    "from tensorflow.keras import layers\n",
    "\n",
    "model = keras.Sequential([\n",
    "    layers.Dense(32, activation=\"relu\"),\n",
    "    layers.Dense(16, activation=\"relu\"),\n",
    "    layers.Dense(1, activation=\"sigmoid\")\n",
    "])\n",
    "\n",
    "callbacks_list = [\n",
    "    keras.callbacks.EarlyStopping(\n",
    "        monitor=\"val_accuracy\",\n",
    "        patience=4,\n",
    "    ),\n",
    "    keras.callbacks.ModelCheckpoint(\n",
    "        filepath=\"checkpoint_path.keras\",\n",
    "        monitor=\"val_loss\",\n",
    "        save_best_only=True,\n",
    ")\n",
    "]\n",
    "\n",
    "model.compile(optimizer=\"rmsprop\", loss=\"binary_crossentropy\", metrics=['accuracy'])\n",
    "\n",
    "history = model.fit(X_train,\n",
    "                    y_train,\n",
    "                    epochs=20,\n",
    "                    callbacks=callbacks_list,\n",
    "                    batch_size=16,\n",
    "                    validation_split=0.2)"
   ]
  },
  {
   "cell_type": "code",
   "execution_count": 8,
   "id": "6836675b",
   "metadata": {
    "execution": {
     "iopub.execute_input": "2023-12-08T19:37:29.820696Z",
     "iopub.status.busy": "2023-12-08T19:37:29.818412Z",
     "iopub.status.idle": "2023-12-08T19:37:29.863302Z",
     "shell.execute_reply": "2023-12-08T19:37:29.862444Z"
    },
    "papermill": {
     "duration": 0.05792,
     "end_time": "2023-12-08T19:37:29.866158",
     "exception": false,
     "start_time": "2023-12-08T19:37:29.808238",
     "status": "completed"
    },
    "tags": []
   },
   "outputs": [],
   "source": [
    "model.save('lr_nan_model.keras')\n",
    "\n",
    "with open('acc_of_lr_nan_handling_model.txt', 'w') as file:\n",
    "    history_dict = history.history\n",
    "    acc = history_dict['val_accuracy'][-1]\n",
    "    file.write(f'{acc}')"
   ]
  }
 ],
 "metadata": {
  "kernelspec": {
   "display_name": "Python 3 (ipykernel)",
   "language": "python",
   "name": "python3"
  },
  "language_info": {
   "codemirror_mode": {
    "name": "ipython",
    "version": 3
   },
   "file_extension": ".py",
   "mimetype": "text/x-python",
   "name": "python",
   "nbconvert_exporter": "python",
   "pygments_lexer": "ipython3",
   "version": "3.9.18"
  },
  "papermill": {
   "default_parameters": {},
   "duration": 6.606619,
   "end_time": "2023-12-08T19:37:30.496229",
   "environment_variables": {},
   "exception": null,
   "input_path": "/home/uncookie/Documents/titanic_pipeline/lr_nan_handling_and_nn_use.ipynb",
   "output_path": "/home/uncookie/Documents/titanic_pipeline/lr_nan_handling_and_nn_use.ipynb",
   "parameters": {},
   "start_time": "2023-12-08T19:37:23.889610",
   "version": "2.4.0"
  }
 },
 "nbformat": 4,
 "nbformat_minor": 5
}