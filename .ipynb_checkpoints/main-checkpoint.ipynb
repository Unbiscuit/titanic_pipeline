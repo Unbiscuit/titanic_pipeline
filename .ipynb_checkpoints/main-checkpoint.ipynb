{
 "cells": [
  {
   "cell_type": "code",
   "execution_count": 1,
   "metadata": {},
   "outputs": [],
   "source": [
    "import pandas as pd\n",
    "import numpy as np"
   ]
  },
  {
   "cell_type": "code",
   "execution_count": 2,
   "metadata": {},
   "outputs": [
    {
     "data": {
      "text/html": [
       "<div>\n",
       "<style scoped>\n",
       "    .dataframe tbody tr th:only-of-type {\n",
       "        vertical-align: middle;\n",
       "    }\n",
       "\n",
       "    .dataframe tbody tr th {\n",
       "        vertical-align: top;\n",
       "    }\n",
       "\n",
       "    .dataframe thead th {\n",
       "        text-align: right;\n",
       "    }\n",
       "</style>\n",
       "<table border=\"1\" class=\"dataframe\">\n",
       "  <thead>\n",
       "    <tr style=\"text-align: right;\">\n",
       "      <th></th>\n",
       "      <th>PassengerId</th>\n",
       "      <th>Survived</th>\n",
       "      <th>Pclass</th>\n",
       "      <th>Name</th>\n",
       "      <th>Sex</th>\n",
       "      <th>Age</th>\n",
       "      <th>SibSp</th>\n",
       "      <th>Parch</th>\n",
       "      <th>Ticket</th>\n",
       "      <th>Fare</th>\n",
       "      <th>Cabin</th>\n",
       "      <th>Embarked</th>\n",
       "    </tr>\n",
       "  </thead>\n",
       "  <tbody>\n",
       "    <tr>\n",
       "      <th>0</th>\n",
       "      <td>1</td>\n",
       "      <td>0</td>\n",
       "      <td>3</td>\n",
       "      <td>Braund, Mr. Owen Harris</td>\n",
       "      <td>male</td>\n",
       "      <td>22.0</td>\n",
       "      <td>1</td>\n",
       "      <td>0</td>\n",
       "      <td>A/5 21171</td>\n",
       "      <td>7.2500</td>\n",
       "      <td>NaN</td>\n",
       "      <td>S</td>\n",
       "    </tr>\n",
       "    <tr>\n",
       "      <th>1</th>\n",
       "      <td>2</td>\n",
       "      <td>1</td>\n",
       "      <td>1</td>\n",
       "      <td>Cumings, Mrs. John Bradley (Florence Briggs Th...</td>\n",
       "      <td>female</td>\n",
       "      <td>38.0</td>\n",
       "      <td>1</td>\n",
       "      <td>0</td>\n",
       "      <td>PC 17599</td>\n",
       "      <td>71.2833</td>\n",
       "      <td>C85</td>\n",
       "      <td>C</td>\n",
       "    </tr>\n",
       "    <tr>\n",
       "      <th>2</th>\n",
       "      <td>3</td>\n",
       "      <td>1</td>\n",
       "      <td>3</td>\n",
       "      <td>Heikkinen, Miss. Laina</td>\n",
       "      <td>female</td>\n",
       "      <td>26.0</td>\n",
       "      <td>0</td>\n",
       "      <td>0</td>\n",
       "      <td>STON/O2. 3101282</td>\n",
       "      <td>7.9250</td>\n",
       "      <td>NaN</td>\n",
       "      <td>S</td>\n",
       "    </tr>\n",
       "    <tr>\n",
       "      <th>3</th>\n",
       "      <td>4</td>\n",
       "      <td>1</td>\n",
       "      <td>1</td>\n",
       "      <td>Futrelle, Mrs. Jacques Heath (Lily May Peel)</td>\n",
       "      <td>female</td>\n",
       "      <td>35.0</td>\n",
       "      <td>1</td>\n",
       "      <td>0</td>\n",
       "      <td>113803</td>\n",
       "      <td>53.1000</td>\n",
       "      <td>C123</td>\n",
       "      <td>S</td>\n",
       "    </tr>\n",
       "    <tr>\n",
       "      <th>4</th>\n",
       "      <td>5</td>\n",
       "      <td>0</td>\n",
       "      <td>3</td>\n",
       "      <td>Allen, Mr. William Henry</td>\n",
       "      <td>male</td>\n",
       "      <td>35.0</td>\n",
       "      <td>0</td>\n",
       "      <td>0</td>\n",
       "      <td>373450</td>\n",
       "      <td>8.0500</td>\n",
       "      <td>NaN</td>\n",
       "      <td>S</td>\n",
       "    </tr>\n",
       "    <tr>\n",
       "      <th>...</th>\n",
       "      <td>...</td>\n",
       "      <td>...</td>\n",
       "      <td>...</td>\n",
       "      <td>...</td>\n",
       "      <td>...</td>\n",
       "      <td>...</td>\n",
       "      <td>...</td>\n",
       "      <td>...</td>\n",
       "      <td>...</td>\n",
       "      <td>...</td>\n",
       "      <td>...</td>\n",
       "      <td>...</td>\n",
       "    </tr>\n",
       "    <tr>\n",
       "      <th>886</th>\n",
       "      <td>887</td>\n",
       "      <td>0</td>\n",
       "      <td>2</td>\n",
       "      <td>Montvila, Rev. Juozas</td>\n",
       "      <td>male</td>\n",
       "      <td>27.0</td>\n",
       "      <td>0</td>\n",
       "      <td>0</td>\n",
       "      <td>211536</td>\n",
       "      <td>13.0000</td>\n",
       "      <td>NaN</td>\n",
       "      <td>S</td>\n",
       "    </tr>\n",
       "    <tr>\n",
       "      <th>887</th>\n",
       "      <td>888</td>\n",
       "      <td>1</td>\n",
       "      <td>1</td>\n",
       "      <td>Graham, Miss. Margaret Edith</td>\n",
       "      <td>female</td>\n",
       "      <td>19.0</td>\n",
       "      <td>0</td>\n",
       "      <td>0</td>\n",
       "      <td>112053</td>\n",
       "      <td>30.0000</td>\n",
       "      <td>B42</td>\n",
       "      <td>S</td>\n",
       "    </tr>\n",
       "    <tr>\n",
       "      <th>888</th>\n",
       "      <td>889</td>\n",
       "      <td>0</td>\n",
       "      <td>3</td>\n",
       "      <td>Johnston, Miss. Catherine Helen \"Carrie\"</td>\n",
       "      <td>female</td>\n",
       "      <td>NaN</td>\n",
       "      <td>1</td>\n",
       "      <td>2</td>\n",
       "      <td>W./C. 6607</td>\n",
       "      <td>23.4500</td>\n",
       "      <td>NaN</td>\n",
       "      <td>S</td>\n",
       "    </tr>\n",
       "    <tr>\n",
       "      <th>889</th>\n",
       "      <td>890</td>\n",
       "      <td>1</td>\n",
       "      <td>1</td>\n",
       "      <td>Behr, Mr. Karl Howell</td>\n",
       "      <td>male</td>\n",
       "      <td>26.0</td>\n",
       "      <td>0</td>\n",
       "      <td>0</td>\n",
       "      <td>111369</td>\n",
       "      <td>30.0000</td>\n",
       "      <td>C148</td>\n",
       "      <td>C</td>\n",
       "    </tr>\n",
       "    <tr>\n",
       "      <th>890</th>\n",
       "      <td>891</td>\n",
       "      <td>0</td>\n",
       "      <td>3</td>\n",
       "      <td>Dooley, Mr. Patrick</td>\n",
       "      <td>male</td>\n",
       "      <td>32.0</td>\n",
       "      <td>0</td>\n",
       "      <td>0</td>\n",
       "      <td>370376</td>\n",
       "      <td>7.7500</td>\n",
       "      <td>NaN</td>\n",
       "      <td>Q</td>\n",
       "    </tr>\n",
       "  </tbody>\n",
       "</table>\n",
       "<p>891 rows × 12 columns</p>\n",
       "</div>"
      ],
      "text/plain": [
       "     PassengerId  Survived  Pclass  \\\n",
       "0              1         0       3   \n",
       "1              2         1       1   \n",
       "2              3         1       3   \n",
       "3              4         1       1   \n",
       "4              5         0       3   \n",
       "..           ...       ...     ...   \n",
       "886          887         0       2   \n",
       "887          888         1       1   \n",
       "888          889         0       3   \n",
       "889          890         1       1   \n",
       "890          891         0       3   \n",
       "\n",
       "                                                  Name     Sex   Age  SibSp  \\\n",
       "0                              Braund, Mr. Owen Harris    male  22.0      1   \n",
       "1    Cumings, Mrs. John Bradley (Florence Briggs Th...  female  38.0      1   \n",
       "2                               Heikkinen, Miss. Laina  female  26.0      0   \n",
       "3         Futrelle, Mrs. Jacques Heath (Lily May Peel)  female  35.0      1   \n",
       "4                             Allen, Mr. William Henry    male  35.0      0   \n",
       "..                                                 ...     ...   ...    ...   \n",
       "886                              Montvila, Rev. Juozas    male  27.0      0   \n",
       "887                       Graham, Miss. Margaret Edith  female  19.0      0   \n",
       "888           Johnston, Miss. Catherine Helen \"Carrie\"  female   NaN      1   \n",
       "889                              Behr, Mr. Karl Howell    male  26.0      0   \n",
       "890                                Dooley, Mr. Patrick    male  32.0      0   \n",
       "\n",
       "     Parch            Ticket     Fare Cabin Embarked  \n",
       "0        0         A/5 21171   7.2500   NaN        S  \n",
       "1        0          PC 17599  71.2833   C85        C  \n",
       "2        0  STON/O2. 3101282   7.9250   NaN        S  \n",
       "3        0            113803  53.1000  C123        S  \n",
       "4        0            373450   8.0500   NaN        S  \n",
       "..     ...               ...      ...   ...      ...  \n",
       "886      0            211536  13.0000   NaN        S  \n",
       "887      0            112053  30.0000   B42        S  \n",
       "888      2        W./C. 6607  23.4500   NaN        S  \n",
       "889      0            111369  30.0000  C148        C  \n",
       "890      0            370376   7.7500   NaN        Q  \n",
       "\n",
       "[891 rows x 12 columns]"
      ]
     },
     "execution_count": 2,
     "metadata": {},
     "output_type": "execute_result"
    }
   ],
   "source": [
    "df = pd.read_csv('/home/uncookie/Documents/datasets/titanic/train.csv')\n",
    "df"
   ]
  },
  {
   "cell_type": "code",
   "execution_count": 3,
   "metadata": {},
   "outputs": [
    {
     "data": {
      "text/plain": [
       "['Age', 'Cabin']"
      ]
     },
     "execution_count": 3,
     "metadata": {},
     "output_type": "execute_result"
    }
   ],
   "source": [
    "df = df.loc[:, df.columns != 'Name']\n",
    "df = df.loc[:, df.columns != 'Embarked']\n",
    "df = df.loc[:, df.columns != 'PassengerId']\n",
    "df = df.loc[:, df.columns != 'Ticket']\n",
    "\n",
    "df.columns[df.isna().any()].tolist()"
   ]
  },
  {
   "cell_type": "code",
   "execution_count": 4,
   "metadata": {},
   "outputs": [
    {
     "data": {
      "text/html": [
       "<div>\n",
       "<style scoped>\n",
       "    .dataframe tbody tr th:only-of-type {\n",
       "        vertical-align: middle;\n",
       "    }\n",
       "\n",
       "    .dataframe tbody tr th {\n",
       "        vertical-align: top;\n",
       "    }\n",
       "\n",
       "    .dataframe thead th {\n",
       "        text-align: right;\n",
       "    }\n",
       "</style>\n",
       "<table border=\"1\" class=\"dataframe\">\n",
       "  <thead>\n",
       "    <tr style=\"text-align: right;\">\n",
       "      <th></th>\n",
       "      <th>Survived</th>\n",
       "      <th>Pclass</th>\n",
       "      <th>Sex</th>\n",
       "      <th>Age</th>\n",
       "      <th>SibSp</th>\n",
       "      <th>Parch</th>\n",
       "      <th>Fare</th>\n",
       "      <th>Cabin</th>\n",
       "    </tr>\n",
       "  </thead>\n",
       "  <tbody>\n",
       "    <tr>\n",
       "      <th>0</th>\n",
       "      <td>0</td>\n",
       "      <td>3</td>\n",
       "      <td>0</td>\n",
       "      <td>22.0</td>\n",
       "      <td>1</td>\n",
       "      <td>0</td>\n",
       "      <td>7.2500</td>\n",
       "      <td>NaN</td>\n",
       "    </tr>\n",
       "    <tr>\n",
       "      <th>1</th>\n",
       "      <td>1</td>\n",
       "      <td>1</td>\n",
       "      <td>1</td>\n",
       "      <td>38.0</td>\n",
       "      <td>1</td>\n",
       "      <td>0</td>\n",
       "      <td>71.2833</td>\n",
       "      <td>5.0</td>\n",
       "    </tr>\n",
       "    <tr>\n",
       "      <th>2</th>\n",
       "      <td>1</td>\n",
       "      <td>3</td>\n",
       "      <td>1</td>\n",
       "      <td>26.0</td>\n",
       "      <td>0</td>\n",
       "      <td>0</td>\n",
       "      <td>7.9250</td>\n",
       "      <td>NaN</td>\n",
       "    </tr>\n",
       "    <tr>\n",
       "      <th>3</th>\n",
       "      <td>1</td>\n",
       "      <td>1</td>\n",
       "      <td>1</td>\n",
       "      <td>35.0</td>\n",
       "      <td>1</td>\n",
       "      <td>0</td>\n",
       "      <td>53.1000</td>\n",
       "      <td>5.0</td>\n",
       "    </tr>\n",
       "    <tr>\n",
       "      <th>4</th>\n",
       "      <td>0</td>\n",
       "      <td>3</td>\n",
       "      <td>0</td>\n",
       "      <td>35.0</td>\n",
       "      <td>0</td>\n",
       "      <td>0</td>\n",
       "      <td>8.0500</td>\n",
       "      <td>NaN</td>\n",
       "    </tr>\n",
       "    <tr>\n",
       "      <th>...</th>\n",
       "      <td>...</td>\n",
       "      <td>...</td>\n",
       "      <td>...</td>\n",
       "      <td>...</td>\n",
       "      <td>...</td>\n",
       "      <td>...</td>\n",
       "      <td>...</td>\n",
       "      <td>...</td>\n",
       "    </tr>\n",
       "    <tr>\n",
       "      <th>886</th>\n",
       "      <td>0</td>\n",
       "      <td>2</td>\n",
       "      <td>0</td>\n",
       "      <td>27.0</td>\n",
       "      <td>0</td>\n",
       "      <td>0</td>\n",
       "      <td>13.0000</td>\n",
       "      <td>NaN</td>\n",
       "    </tr>\n",
       "    <tr>\n",
       "      <th>887</th>\n",
       "      <td>1</td>\n",
       "      <td>1</td>\n",
       "      <td>1</td>\n",
       "      <td>19.0</td>\n",
       "      <td>0</td>\n",
       "      <td>0</td>\n",
       "      <td>30.0000</td>\n",
       "      <td>6.0</td>\n",
       "    </tr>\n",
       "    <tr>\n",
       "      <th>888</th>\n",
       "      <td>0</td>\n",
       "      <td>3</td>\n",
       "      <td>1</td>\n",
       "      <td>NaN</td>\n",
       "      <td>1</td>\n",
       "      <td>2</td>\n",
       "      <td>23.4500</td>\n",
       "      <td>NaN</td>\n",
       "    </tr>\n",
       "    <tr>\n",
       "      <th>889</th>\n",
       "      <td>1</td>\n",
       "      <td>1</td>\n",
       "      <td>0</td>\n",
       "      <td>26.0</td>\n",
       "      <td>0</td>\n",
       "      <td>0</td>\n",
       "      <td>30.0000</td>\n",
       "      <td>5.0</td>\n",
       "    </tr>\n",
       "    <tr>\n",
       "      <th>890</th>\n",
       "      <td>0</td>\n",
       "      <td>3</td>\n",
       "      <td>0</td>\n",
       "      <td>32.0</td>\n",
       "      <td>0</td>\n",
       "      <td>0</td>\n",
       "      <td>7.7500</td>\n",
       "      <td>NaN</td>\n",
       "    </tr>\n",
       "  </tbody>\n",
       "</table>\n",
       "<p>891 rows × 8 columns</p>\n",
       "</div>"
      ],
      "text/plain": [
       "     Survived  Pclass  Sex   Age  SibSp  Parch     Fare  Cabin\n",
       "0           0       3    0  22.0      1      0   7.2500    NaN\n",
       "1           1       1    1  38.0      1      0  71.2833    5.0\n",
       "2           1       3    1  26.0      0      0   7.9250    NaN\n",
       "3           1       1    1  35.0      1      0  53.1000    5.0\n",
       "4           0       3    0  35.0      0      0   8.0500    NaN\n",
       "..        ...     ...  ...   ...    ...    ...      ...    ...\n",
       "886         0       2    0  27.0      0      0  13.0000    NaN\n",
       "887         1       1    1  19.0      0      0  30.0000    6.0\n",
       "888         0       3    1   NaN      1      2  23.4500    NaN\n",
       "889         1       1    0  26.0      0      0  30.0000    5.0\n",
       "890         0       3    0  32.0      0      0   7.7500    NaN\n",
       "\n",
       "[891 rows x 8 columns]"
      ]
     },
     "execution_count": 4,
     "metadata": {},
     "output_type": "execute_result"
    }
   ],
   "source": [
    "df['Sex'] = pd.factorize(df['Sex'])[0]\n",
    "\n",
    "letter_to_index = {'G': 1, 'F': 2, 'E': 3, 'D': 4, 'C': 5, 'B': 6, 'A': 7}\n",
    "df['Cabin'] = df['Cabin'].map(lambda x: letter_to_index.get(x[0], np.nan) if pd.notna(x) else np.nan)\n",
    "\n",
    "df\n"
   ]
  },
  {
   "cell_type": "code",
   "execution_count": 5,
   "metadata": {},
   "outputs": [
    {
     "data": {
      "text/plain": [
       "array([[<Axes: title={'center': 'Age'}>]], dtype=object)"
      ]
     },
     "execution_count": 5,
     "metadata": {},
     "output_type": "execute_result"
    },
    {
     "data": {
      "image/png": "[encoded data removed]",
      "text/plain": [
       "<Figure size 640x480 with 1 Axes>"
      ]
     },
     "metadata": {},
     "output_type": "display_data"
    }
   ],
   "source": [
    "df.hist(column='Age')"
   ]
  },
  {
   "cell_type": "code",
   "execution_count": 6,
   "metadata": {},
   "outputs": [],
   "source": [
    "def drop_rows_with_nans_and_encode(df):\n",
    "    df = df.dropna()\n",
    "    return df\n",
    "\n",
    "def drop_columns_with_nans(df):\n",
    "    df = df.dropna(axis=1)\n",
    "    return df"
   ]
  },
  {
   "cell_type": "code",
   "execution_count": 7,
   "metadata": {},
   "outputs": [],
   "source": [
    "import random\n",
    "\n",
    "def fill_nan_based_on_column2(row):\n",
    "    if pd.isna(row['Cabin']):\n",
    "        if row['Pclass'] == 1:\n",
    "            return random.choice([7, 6, 5, 4, 3])\n",
    "        elif row['Pclass'] == 2:\n",
    "            return random.choice([4, 3, 2])\n",
    "        elif row['Pclass'] == 3:\n",
    "            return random.choice([4, 3, 2, 1])\n",
    "    else:\n",
    "        return row['Cabin']\n",
    "\n",
    "def fill_nan_with_values(df):\n",
    "    df['Age'] = df['Age'].fillna(df['Age'].mean())\n",
    "    df['Cabin'] = df.apply(fill_nan_based_on_column2, axis=1)\n",
    "\n",
    "    \n",
    "    return df"
   ]
  },
  {
   "cell_type": "code",
   "execution_count": 8,
   "metadata": {},
   "outputs": [],
   "source": [
    "\n",
    "def use_lr_to_a_column(df, column):\n",
    "    from sklearn.linear_model import LinearRegression\n",
    "    test_data = df[df[column].isnull()]\n",
    "    df.dropna(inplace=True)\n",
    "    x_train = df.drop(column,axis=1)\n",
    "    x_train = x_train.drop('Survived',axis=1)\n",
    "    y_train = df[column]\n",
    "    lr = LinearRegression()\n",
    "    lr.fit(x_train, y_train)\n",
    "    x_test = test_data[['Pclass','Sex', 'SibSp', 'Parch', 'Fare']]\n",
    "    y_pred = lr.predict(x_test)\n",
    "    return y_pred\n",
    "\n",
    "def fill_nan_with_lr(df):\n",
    "    df_without_age = df.loc[:, df.columns != 'Age']\n",
    "    df_without_cabin = df.loc[:, df.columns != 'Cabin']\n",
    "    a = pd.Series(use_lr_to_a_column(df_without_age, 'Cabin'))\n",
    "    b = pd.Series(use_lr_to_a_column(df_without_cabin, 'Age'))\n",
    "\n",
    "    nan_indices = df[df['Cabin'].isna()].index\n",
    "    for index, replacement_value in zip(nan_indices, a):\n",
    "        df.at[index, 'Cabin'] = replacement_value\n",
    "\n",
    "    nan_indices = df[df['Age'].isna()].index\n",
    "    for index, replacement_value in zip(nan_indices, b):\n",
    "        df.at[index, 'Age'] = replacement_value\n",
    "\n",
    "    return df\n"
   ]
  },
  {
   "cell_type": "code",
   "execution_count": 9,
   "metadata": {},
   "outputs": [
    {
     "name": "stdout",
     "output_type": "stream",
     "text": [
      "\n",
      "\n"
     ]
    },
    {
     "name": "stderr",
     "output_type": "stream",
     "text": [
      "/tmp/ipykernel_5975/981082062.py:4: SettingWithCopyWarning: \n",
      "A value is trying to be set on a copy of a slice from a DataFrame\n",
      "\n",
      "See the caveats in the documentation: https://pandas.pydata.org/pandas-docs/stable/user_guide/indexing.html#returning-a-view-versus-a-copy\n",
      "  df.dropna(inplace=True)\n",
      "/tmp/ipykernel_5975/981082062.py:4: SettingWithCopyWarning: \n",
      "A value is trying to be set on a copy of a slice from a DataFrame\n",
      "\n",
      "See the caveats in the documentation: https://pandas.pydata.org/pandas-docs/stable/user_guide/indexing.html#returning-a-view-versus-a-copy\n",
      "  df.dropna(inplace=True)\n"
     ]
    },
    {
     "data": {
      "text/html": [
       "<div>\n",
       "<style scoped>\n",
       "    .dataframe tbody tr th:only-of-type {\n",
       "        vertical-align: middle;\n",
       "    }\n",
       "\n",
       "    .dataframe tbody tr th {\n",
       "        vertical-align: top;\n",
       "    }\n",
       "\n",
       "    .dataframe thead th {\n",
       "        text-align: right;\n",
       "    }\n",
       "</style>\n",
       "<table border=\"1\" class=\"dataframe\">\n",
       "  <thead>\n",
       "    <tr style=\"text-align: right;\">\n",
       "      <th></th>\n",
       "      <th>Survived</th>\n",
       "      <th>Pclass</th>\n",
       "      <th>Sex</th>\n",
       "      <th>Age</th>\n",
       "      <th>SibSp</th>\n",
       "      <th>Parch</th>\n",
       "      <th>Fare</th>\n",
       "      <th>Cabin</th>\n",
       "    </tr>\n",
       "  </thead>\n",
       "  <tbody>\n",
       "    <tr>\n",
       "      <th>0</th>\n",
       "      <td>0</td>\n",
       "      <td>3</td>\n",
       "      <td>0</td>\n",
       "      <td>22.000000</td>\n",
       "      <td>1</td>\n",
       "      <td>0</td>\n",
       "      <td>7.2500</td>\n",
       "      <td>1.529860</td>\n",
       "    </tr>\n",
       "    <tr>\n",
       "      <th>1</th>\n",
       "      <td>1</td>\n",
       "      <td>1</td>\n",
       "      <td>1</td>\n",
       "      <td>38.000000</td>\n",
       "      <td>1</td>\n",
       "      <td>0</td>\n",
       "      <td>71.2833</td>\n",
       "      <td>5.000000</td>\n",
       "    </tr>\n",
       "    <tr>\n",
       "      <th>2</th>\n",
       "      <td>1</td>\n",
       "      <td>3</td>\n",
       "      <td>1</td>\n",
       "      <td>26.000000</td>\n",
       "      <td>0</td>\n",
       "      <td>0</td>\n",
       "      <td>7.9250</td>\n",
       "      <td>1.633596</td>\n",
       "    </tr>\n",
       "    <tr>\n",
       "      <th>3</th>\n",
       "      <td>1</td>\n",
       "      <td>1</td>\n",
       "      <td>1</td>\n",
       "      <td>35.000000</td>\n",
       "      <td>1</td>\n",
       "      <td>0</td>\n",
       "      <td>53.1000</td>\n",
       "      <td>5.000000</td>\n",
       "    </tr>\n",
       "    <tr>\n",
       "      <th>4</th>\n",
       "      <td>0</td>\n",
       "      <td>3</td>\n",
       "      <td>0</td>\n",
       "      <td>35.000000</td>\n",
       "      <td>0</td>\n",
       "      <td>0</td>\n",
       "      <td>8.0500</td>\n",
       "      <td>1.832198</td>\n",
       "    </tr>\n",
       "    <tr>\n",
       "      <th>...</th>\n",
       "      <td>...</td>\n",
       "      <td>...</td>\n",
       "      <td>...</td>\n",
       "      <td>...</td>\n",
       "      <td>...</td>\n",
       "      <td>...</td>\n",
       "      <td>...</td>\n",
       "      <td>...</td>\n",
       "    </tr>\n",
       "    <tr>\n",
       "      <th>886</th>\n",
       "      <td>0</td>\n",
       "      <td>2</td>\n",
       "      <td>0</td>\n",
       "      <td>27.000000</td>\n",
       "      <td>0</td>\n",
       "      <td>0</td>\n",
       "      <td>13.0000</td>\n",
       "      <td>3.410789</td>\n",
       "    </tr>\n",
       "    <tr>\n",
       "      <th>887</th>\n",
       "      <td>1</td>\n",
       "      <td>1</td>\n",
       "      <td>1</td>\n",
       "      <td>19.000000</td>\n",
       "      <td>0</td>\n",
       "      <td>0</td>\n",
       "      <td>30.0000</td>\n",
       "      <td>6.000000</td>\n",
       "    </tr>\n",
       "    <tr>\n",
       "      <th>888</th>\n",
       "      <td>0</td>\n",
       "      <td>3</td>\n",
       "      <td>1</td>\n",
       "      <td>19.427101</td>\n",
       "      <td>1</td>\n",
       "      <td>2</td>\n",
       "      <td>23.4500</td>\n",
       "      <td>1.281010</td>\n",
       "    </tr>\n",
       "    <tr>\n",
       "      <th>889</th>\n",
       "      <td>1</td>\n",
       "      <td>1</td>\n",
       "      <td>0</td>\n",
       "      <td>26.000000</td>\n",
       "      <td>0</td>\n",
       "      <td>0</td>\n",
       "      <td>30.0000</td>\n",
       "      <td>5.000000</td>\n",
       "    </tr>\n",
       "    <tr>\n",
       "      <th>890</th>\n",
       "      <td>0</td>\n",
       "      <td>3</td>\n",
       "      <td>0</td>\n",
       "      <td>32.000000</td>\n",
       "      <td>0</td>\n",
       "      <td>0</td>\n",
       "      <td>7.7500</td>\n",
       "      <td>1.831172</td>\n",
       "    </tr>\n",
       "  </tbody>\n",
       "</table>\n",
       "<p>891 rows × 8 columns</p>\n",
       "</div>"
      ],
      "text/plain": [
       "     Survived  Pclass  Sex        Age  SibSp  Parch     Fare     Cabin\n",
       "0           0       3    0  22.000000      1      0   7.2500  1.529860\n",
       "1           1       1    1  38.000000      1      0  71.2833  5.000000\n",
       "2           1       3    1  26.000000      0      0   7.9250  1.633596\n",
       "3           1       1    1  35.000000      1      0  53.1000  5.000000\n",
       "4           0       3    0  35.000000      0      0   8.0500  1.832198\n",
       "..        ...     ...  ...        ...    ...    ...      ...       ...\n",
       "886         0       2    0  27.000000      0      0  13.0000  3.410789\n",
       "887         1       1    1  19.000000      0      0  30.0000  6.000000\n",
       "888         0       3    1  19.427101      1      2  23.4500  1.281010\n",
       "889         1       1    0  26.000000      0      0  30.0000  5.000000\n",
       "890         0       3    0  32.000000      0      0   7.7500  1.831172\n",
       "\n",
       "[891 rows x 8 columns]"
      ]
     },
     "execution_count": 9,
     "metadata": {},
     "output_type": "execute_result"
    }
   ],
   "source": [
    "df = fill_nan_with_lr(df)\n",
    "df\n"
   ]
  },
  {
   "cell_type": "code",
   "execution_count": 10,
   "metadata": {},
   "outputs": [],
   "source": [
    "import numpy as np\n",
    "from sklearn.model_selection import train_test_split\n",
    "\n",
    "y = df['Survived']\n",
    "df = df.loc[:, df.columns != 'Survived']"
   ]
  },
  {
   "cell_type": "code",
   "execution_count": 11,
   "metadata": {},
   "outputs": [],
   "source": [
    "df = (df-df.mean())/df.std()\n",
    "\n",
    "X_train, X_test, y_train, y_test = train_test_split(df, y, test_size=0.2, random_state=42)"
   ]
  },
  {
   "cell_type": "code",
   "execution_count": 12,
   "metadata": {},
   "outputs": [
    {
     "name": "stderr",
     "output_type": "stream",
     "text": [
      "2023-09-29 21:37:36.984720: I tensorflow/core/platform/cpu_feature_guard.cc:182] This TensorFlow binary is optimized to use available CPU instructions in performance-critical operations.\n",
      "To enable the following instructions: AVX2 FMA, in other operations, rebuild TensorFlow with the appropriate compiler flags.\n",
      "2023-09-29 21:37:39.450958: W tensorflow/compiler/tf2tensorrt/utils/py_utils.cc:38] TF-TRT Warning: Could not find TensorRT\n",
      "2023-09-29 21:37:43.735506: I tensorflow/compiler/xla/stream_executor/cuda/cuda_gpu_executor.cc:996] successful NUMA node read from SysFS had negative value (-1), but there must be at least one NUMA node, so returning NUMA node zero. See more at https://github.com/torvalds/linux/blob/v6.0/Documentation/ABI/testing/sysfs-bus-pci#L344-L355\n",
      "2023-09-29 21:37:43.998172: I tensorflow/compiler/xla/stream_executor/cuda/cuda_gpu_executor.cc:996] successful NUMA node read from SysFS had negative value (-1), but there must be at least one NUMA node, so returning NUMA node zero. See more at https://github.com/torvalds/linux/blob/v6.0/Documentation/ABI/testing/sysfs-bus-pci#L344-L355\n",
      "2023-09-29 21:37:43.999183: I tensorflow/compiler/xla/stream_executor/cuda/cuda_gpu_executor.cc:996] successful NUMA node read from SysFS had negative value (-1), but there must be at least one NUMA node, so returning NUMA node zero. See more at https://github.com/torvalds/linux/blob/v6.0/Documentation/ABI/testing/sysfs-bus-pci#L344-L355\n",
      "2023-09-29 21:37:44.003243: I tensorflow/compiler/xla/stream_executor/cuda/cuda_gpu_executor.cc:996] successful NUMA node read from SysFS had negative value (-1), but there must be at least one NUMA node, so returning NUMA node zero. See more at https://github.com/torvalds/linux/blob/v6.0/Documentation/ABI/testing/sysfs-bus-pci#L344-L355\n",
      "2023-09-29 21:37:44.004180: I tensorflow/compiler/xla/stream_executor/cuda/cuda_gpu_executor.cc:996] successful NUMA node read from SysFS had negative value (-1), but there must be at least one NUMA node, so returning NUMA node zero. See more at https://github.com/torvalds/linux/blob/v6.0/Documentation/ABI/testing/sysfs-bus-pci#L344-L355\n",
      "2023-09-29 21:37:44.004846: I tensorflow/compiler/xla/stream_executor/cuda/cuda_gpu_executor.cc:996] successful NUMA node read from SysFS had negative value (-1), but there must be at least one NUMA node, so returning NUMA node zero. See more at https://github.com/torvalds/linux/blob/v6.0/Documentation/ABI/testing/sysfs-bus-pci#L344-L355\n",
      "2023-09-29 21:37:44.208911: I tensorflow/compiler/xla/stream_executor/cuda/cuda_gpu_executor.cc:996] successful NUMA node read from SysFS had negative value (-1), but there must be at least one NUMA node, so returning NUMA node zero. See more at https://github.com/torvalds/linux/blob/v6.0/Documentation/ABI/testing/sysfs-bus-pci#L344-L355\n",
      "2023-09-29 21:37:44.209608: I tensorflow/compiler/xla/stream_executor/cuda/cuda_gpu_executor.cc:996] successful NUMA node read from SysFS had negative value (-1), but there must be at least one NUMA node, so returning NUMA node zero. See more at https://github.com/torvalds/linux/blob/v6.0/Documentation/ABI/testing/sysfs-bus-pci#L344-L355\n",
      "2023-09-29 21:37:44.210201: I tensorflow/compiler/xla/stream_executor/cuda/cuda_gpu_executor.cc:996] successful NUMA node read from SysFS had negative value (-1), but there must be at least one NUMA node, so returning NUMA node zero. See more at https://github.com/torvalds/linux/blob/v6.0/Documentation/ABI/testing/sysfs-bus-pci#L344-L355\n",
      "2023-09-29 21:37:44.210712: I tensorflow/core/common_runtime/gpu/gpu_device.cc:1635] Created device /job:localhost/replica:0/task:0/device:GPU:0 with 2791 MB memory:  -> device: 0, name: NVIDIA GeForce GTX 1650, pci bus id: 0000:01:00.0, compute capability: 7.5\n"
     ]
    },
    {
     "name": "stdout",
     "output_type": "stream",
     "text": [
      "Epoch 1/20\n"
     ]
    },
    {
     "name": "stderr",
     "output_type": "stream",
     "text": [
      "2023-09-29 21:37:46.523903: I tensorflow/compiler/xla/service/service.cc:169] XLA service 0x7fe1d4436cc0 initialized for platform CUDA (this does not guarantee that XLA will be used). Devices:\n",
      "2023-09-29 21:37:46.524014: I tensorflow/compiler/xla/service/service.cc:177]   StreamExecutor device (0): NVIDIA GeForce GTX 1650, Compute Capability 7.5\n",
      "2023-09-29 21:37:46.589660: I tensorflow/compiler/mlir/tensorflow/utils/dump_mlir_util.cc:269] disabling MLIR crash reproducer, set env var `MLIR_CRASH_REPRODUCER_DIRECTORY` to enable.\n",
      "2023-09-29 21:37:46.710709: I tensorflow/compiler/xla/stream_executor/cuda/cuda_dnn.cc:424] Loaded cuDNN version 8600\n",
      "2023-09-29 21:37:47.323068: I ./tensorflow/compiler/jit/device_compiler.h:180] Compiled cluster using XLA!  This line is logged at most once for the lifetime of the process.\n"
     ]
    },
    {
     "name": "stdout",
     "output_type": "stream",
     "text": [
      "36/36 [==============================] - 5s 30ms/step - loss: 0.5745 - accuracy: 0.7557 - auc: 0.8014 - precision_m: 0.6512 - recall_m: 0.6819 - sensitivity_at_specificity: 0.8624 - specificity_at_sensitivity: 0.9259 - f1_m: 0.6471 - val_loss: 0.5155 - val_accuracy: 0.7832 - val_auc: 0.8580 - val_precision_m: 0.7981 - val_recall_m: 0.6032 - val_sensitivity_at_specificity: 0.9200 - val_specificity_at_sensitivity: 0.9785 - val_f1_m: 0.6682\n",
      "Epoch 2/20\n",
      "36/36 [==============================] - 1s 16ms/step - loss: 0.5016 - accuracy: 0.8032 - auc: 0.8381 - precision_m: 0.8406 - recall_m: 0.6104 - sensitivity_at_specificity: 0.8807 - specificity_at_sensitivity: 0.9715 - f1_m: 0.6787 - val_loss: 0.4562 - val_accuracy: 0.8042 - val_auc: 0.8810 - val_precision_m: 0.8630 - val_recall_m: 0.6032 - val_sensitivity_at_specificity: 0.9200 - val_specificity_at_sensitivity: 0.9892 - val_f1_m: 0.6843\n",
      "Epoch 3/20\n",
      "36/36 [==============================] - 1s 18ms/step - loss: 0.4652 - accuracy: 0.8084 - auc: 0.8490 - precision_m: 0.8752 - recall_m: 0.5979 - sensitivity_at_specificity: 0.8899 - specificity_at_sensitivity: 0.9744 - f1_m: 0.6900 - val_loss: 0.4248 - val_accuracy: 0.8042 - val_auc: 0.8809 - val_precision_m: 0.8093 - val_recall_m: 0.6393 - val_sensitivity_at_specificity: 0.9200 - val_specificity_at_sensitivity: 0.9785 - val_f1_m: 0.6990\n",
      "Epoch 4/20\n",
      "36/36 [==============================] - 1s 19ms/step - loss: 0.4479 - accuracy: 0.8120 - auc: 0.8482 - precision_m: 0.8345 - recall_m: 0.6468 - sensitivity_at_specificity: 0.8853 - specificity_at_sensitivity: 0.9801 - f1_m: 0.7004 - val_loss: 0.4089 - val_accuracy: 0.8462 - val_auc: 0.8865 - val_precision_m: 0.8157 - val_recall_m: 0.7491 - val_sensitivity_at_specificity: 0.9200 - val_specificity_at_sensitivity: 0.9892 - val_f1_m: 0.7647\n",
      "Epoch 5/20\n",
      "36/36 [==============================] - 1s 20ms/step - loss: 0.4371 - accuracy: 0.8190 - auc: 0.8543 - precision_m: 0.8472 - recall_m: 0.6516 - sensitivity_at_specificity: 0.8807 - specificity_at_sensitivity: 0.9829 - f1_m: 0.7196 - val_loss: 0.4006 - val_accuracy: 0.8462 - val_auc: 0.8834 - val_precision_m: 0.8157 - val_recall_m: 0.7491 - val_sensitivity_at_specificity: 0.9200 - val_specificity_at_sensitivity: 0.9785 - val_f1_m: 0.7647\n",
      "Epoch 6/20\n",
      "36/36 [==============================] - 1s 15ms/step - loss: 0.4303 - accuracy: 0.8190 - auc: 0.8525 - precision_m: 0.8092 - recall_m: 0.6677 - sensitivity_at_specificity: 0.8761 - specificity_at_sensitivity: 0.9858 - f1_m: 0.7129 - val_loss: 0.3928 - val_accuracy: 0.8462 - val_auc: 0.8868 - val_precision_m: 0.8157 - val_recall_m: 0.7491 - val_sensitivity_at_specificity: 0.9200 - val_specificity_at_sensitivity: 0.9892 - val_f1_m: 0.7647\n",
      "Epoch 7/20\n",
      "36/36 [==============================] - 1s 17ms/step - loss: 0.4252 - accuracy: 0.8260 - auc: 0.8537 - precision_m: 0.8481 - recall_m: 0.6629 - sensitivity_at_specificity: 0.8807 - specificity_at_sensitivity: 0.9858 - f1_m: 0.7269 - val_loss: 0.3955 - val_accuracy: 0.8531 - val_auc: 0.8887 - val_precision_m: 0.8157 - val_recall_m: 0.7630 - val_sensitivity_at_specificity: 0.9200 - val_specificity_at_sensitivity: 0.9785 - val_f1_m: 0.7732\n",
      "Epoch 8/20\n",
      "36/36 [==============================] - 1s 18ms/step - loss: 0.4226 - accuracy: 0.8243 - auc: 0.8540 - precision_m: 0.8606 - recall_m: 0.6806 - sensitivity_at_specificity: 0.8807 - specificity_at_sensitivity: 0.9858 - f1_m: 0.7289 - val_loss: 0.3918 - val_accuracy: 0.8531 - val_auc: 0.8897 - val_precision_m: 0.8157 - val_recall_m: 0.7630 - val_sensitivity_at_specificity: 0.9200 - val_specificity_at_sensitivity: 0.9892 - val_f1_m: 0.7732\n",
      "Epoch 9/20\n",
      "36/36 [==============================] - 1s 18ms/step - loss: 0.4182 - accuracy: 0.8366 - auc: 0.8578 - precision_m: 0.8497 - recall_m: 0.7040 - sensitivity_at_specificity: 0.8807 - specificity_at_sensitivity: 0.9858 - f1_m: 0.7491 - val_loss: 0.3884 - val_accuracy: 0.8531 - val_auc: 0.8902 - val_precision_m: 0.8157 - val_recall_m: 0.7630 - val_sensitivity_at_specificity: 0.9200 - val_specificity_at_sensitivity: 0.9892 - val_f1_m: 0.7732\n",
      "Epoch 10/20\n",
      "36/36 [==============================] - 1s 18ms/step - loss: 0.4165 - accuracy: 0.8330 - auc: 0.8596 - precision_m: 0.8432 - recall_m: 0.7054 - sensitivity_at_specificity: 0.8807 - specificity_at_sensitivity: 0.9858 - f1_m: 0.7404 - val_loss: 0.3865 - val_accuracy: 0.8462 - val_auc: 0.8890 - val_precision_m: 0.8157 - val_recall_m: 0.7491 - val_sensitivity_at_specificity: 0.9200 - val_specificity_at_sensitivity: 0.9892 - val_f1_m: 0.7647\n",
      "Epoch 11/20\n",
      "36/36 [==============================] - 1s 16ms/step - loss: 0.4137 - accuracy: 0.8313 - auc: 0.8611 - precision_m: 0.8493 - recall_m: 0.6515 - sensitivity_at_specificity: 0.8899 - specificity_at_sensitivity: 0.9858 - f1_m: 0.7121 - val_loss: 0.3912 - val_accuracy: 0.8531 - val_auc: 0.8882 - val_precision_m: 0.8157 - val_recall_m: 0.7630 - val_sensitivity_at_specificity: 0.9200 - val_specificity_at_sensitivity: 0.9892 - val_f1_m: 0.7732\n"
     ]
    }
   ],
   "source": [
    "from tensorflow import keras\n",
    "from tensorflow.keras.metrics import AUC, SensitivityAtSpecificity, SpecificityAtSensitivity, Accuracy\n",
    "from keras import backend as K\n",
    "from tensorflow.keras import layers\n",
    "\n",
    "model = keras.Sequential([\n",
    "    layers.Dense(32, activation=\"relu\"),\n",
    "    layers.Dense(16, activation=\"relu\"),\n",
    "    layers.Dense(1, activation=\"sigmoid\")\n",
    "])\n",
    "\n",
    "callbacks_list = [\n",
    "    keras.callbacks.EarlyStopping(\n",
    "        monitor=\"val_accuracy\",\n",
    "        patience=4,\n",
    "    ),\n",
    "    keras.callbacks.ModelCheckpoint(\n",
    "        filepath=\"checkpoint_path.keras\",\n",
    "        monitor=\"val_loss\",\n",
    "        save_best_only=True,\n",
    ")\n",
    "]\n",
    "\n",
    "def recall_m(y_true, y_pred):\n",
    "    true_positives = K.sum(K.round(K.clip(y_true * y_pred, 0, 1)))\n",
    "    possible_positives = K.sum(K.round(K.clip(y_true, 0, 1)))\n",
    "    recall = true_positives / (possible_positives + K.epsilon())\n",
    "    return recall\n",
    "\n",
    "def precision_m(y_true, y_pred):\n",
    "    true_positives = K.sum(K.round(K.clip(y_true * y_pred, 0, 1)))\n",
    "    predicted_positives = K.sum(K.round(K.clip(y_pred, 0, 1)))\n",
    "    precision = true_positives / (predicted_positives + K.epsilon())\n",
    "    return precision\n",
    "\n",
    "def f1_m(y_true, y_pred):\n",
    "    precision = precision_m(y_true, y_pred)\n",
    "    recall = recall_m(y_true, y_pred)\n",
    "    return 2*((precision*recall)/(precision+recall+K.epsilon()))\n",
    "\n",
    "\n",
    "model.compile(optimizer=\"rmsprop\", loss=\"binary_crossentropy\", metrics=['accuracy', AUC(), precision_m, recall_m, SensitivityAtSpecificity(0.5), SpecificityAtSensitivity(0.5), f1_m])\n",
    "\n",
    "history = model.fit(X_train,\n",
    "                    y_train,\n",
    "                    epochs=20,\n",
    "                    callbacks=callbacks_list,\n",
    "                    batch_size=16,\n",
    "                    validation_split=0.2)"
   ]
  },
  {
   "cell_type": "code",
   "execution_count": 13,
   "metadata": {},
   "outputs": [
    {
     "data": {
      "text/plain": [
       "dict_keys(['loss', 'accuracy', 'auc', 'precision_m', 'recall_m', 'sensitivity_at_specificity', 'specificity_at_sensitivity', 'f1_m', 'val_loss', 'val_accuracy', 'val_auc', 'val_precision_m', 'val_recall_m', 'val_sensitivity_at_specificity', 'val_specificity_at_sensitivity', 'val_f1_m'])"
      ]
     },
     "execution_count": 13,
     "metadata": {},
     "output_type": "execute_result"
    }
   ],
   "source": [
    "history_dict = history.history\n",
    "history_dict.keys()"
   ]
  },
  {
   "cell_type": "code",
   "execution_count": 14,
   "metadata": {},
   "outputs": [
    {
     "data": {
      "image/png": "[encoded data removed]",
      "text/plain": [
       "<Figure size 640x480 with 1 Axes>"
      ]
     },
     "metadata": {},
     "output_type": "display_data"
    }
   ],
   "source": [
    "import matplotlib.pyplot as plt\n",
    "history_dict = history.history\n",
    "loss_values = history_dict[\"loss\"]\n",
    "val_loss_values = history_dict[\"val_loss\"]\n",
    "epochs = range(1, len(loss_values) + 1)\n",
    "plt.plot(epochs, loss_values, \"bo\", label=\"Training loss\")\n",
    "plt.plot(epochs, val_loss_values, \"b\", label=\"Validation loss\")\n",
    "plt.title(\"Training and validation loss\")\n",
    "plt.xlabel(\"Epochs\")\n",
    "plt.ylabel(\"Loss\")\n",
    "plt.legend()\n",
    "plt.show()"
   ]
  },
  {
   "cell_type": "code",
   "execution_count": 15,
   "metadata": {},
   "outputs": [
    {
     "data": {
      "image/png": "[encoded data removed]",
      "text/plain": [
       "<Figure size 640x480 with 1 Axes>"
      ]
     },
     "metadata": {},
     "output_type": "display_data"
    }
   ],
   "source": [
    "plt.clf()\n",
    "acc = history_dict[\"accuracy\"]\n",
    "val_acc = history_dict[\"val_accuracy\"]\n",
    "plt.plot(epochs, acc, \"bo\", label=\"Training acc\")\n",
    "plt.plot(epochs, val_acc, \"b\", label=\"Validation acc\")\n",
    "plt.title(\"Training and validation accuracy\")\n",
    "plt.xlabel(\"Epochs\")\n",
    "plt.ylabel(\"Accuracy\")\n",
    "plt.legend()\n",
    "plt.show()"
   ]
  },
  {
   "cell_type": "code",
   "execution_count": 16,
   "metadata": {},
   "outputs": [
    {
     "name": "stdout",
     "output_type": "stream",
     "text": [
      "6/6 [==============================] - 0s 9ms/step - loss: 0.4075 - accuracy: 0.8101 - auc: 0.9002 - precision_m: 0.8260 - recall_m: 0.7090 - sensitivity_at_specificity: 0.9730 - specificity_at_sensitivity: 0.9619 - f1_m: 0.7525\n"
     ]
    },
    {
     "data": {
      "text/plain": [
       "[0.407533198595047,\n",
       " 0.8100558519363403,\n",
       " 0.9001930952072144,\n",
       " 0.8259767889976501,\n",
       " 0.7089591026306152,\n",
       " 0.9729729890823364,\n",
       " 0.961904764175415,\n",
       " 0.7524805068969727]"
      ]
     },
     "execution_count": 16,
     "metadata": {},
     "output_type": "execute_result"
    }
   ],
   "source": [
    "#drop columns = 0.7877094745635986, drop rows = 0.61, fill_mean = 0.81, fill lr = 0.826815664768219\n",
    "\n",
    "results = model.evaluate(X_test, y_test)\n",
    "results"
   ]
  },
  {
   "cell_type": "code",
   "execution_count": 17,
   "metadata": {},
   "outputs": [
    {
     "name": "stdout",
     "output_type": "stream",
     "text": [
      "6/6 [==============================] - 0s 1ms/step\n"
     ]
    },
    {
     "data": {
      "text/plain": [
       "array([0.20072152, 0.18306808, 0.15520158, 0.9528146 , 0.5635794 ,\n",
       "       0.97486013, 0.59736204, 0.21129507, 0.69422454, 0.9857168 ,\n",
       "       0.4064617 , 0.08364104, 0.24392381, 0.12584542, 0.16028541,\n",
       "       0.9781425 , 0.3643854 , 0.59754306, 0.20844431, 0.27079472,\n",
       "       0.14240672, 0.30284038, 0.49706218, 0.15810464, 0.14604592,\n",
       "       0.13381585, 0.2915364 , 0.1873596 , 0.17430636, 0.54321575,\n",
       "       0.15791719, 0.6229536 , 0.28621203, 0.59690475, 0.16225827,\n",
       "       0.1541814 , 0.38987195, 0.59736204, 0.97619855, 0.13118453,\n",
       "       0.35730007, 0.13317804, 0.1315164 , 0.1308714 , 0.57880086,\n",
       "       0.19658978, 0.15850812, 0.14923768, 0.14028533, 0.21728   ,\n",
       "       0.49311697, 0.9848926 , 0.06064916, 0.82392544, 0.0431212 ,\n",
       "       0.95903313, 0.17793563, 0.9794645 , 0.9209402 , 0.65660334,\n",
       "       0.15166922, 0.95023066, 0.90024596, 0.28431082, 0.1308714 ,\n",
       "       0.8676119 , 0.3646257 , 0.12948817, 0.25024694, 0.9541541 ,\n",
       "       0.918064  , 0.9824258 , 0.3460333 , 0.92979145, 0.14587969,\n",
       "       0.12084047, 0.5486124 , 0.9950081 , 0.9212164 , 0.5753755 ,\n",
       "       0.1003435 , 0.840617  , 0.9176839 , 0.13084458, 0.28035903,\n",
       "       0.19104747, 0.96004874, 0.93520916, 0.27588457, 0.12980239,\n",
       "       0.48323068, 0.17971247, 0.15714675, 0.13082679, 0.13118453,\n",
       "       0.13179444, 0.37742814, 0.08105543, 0.9449124 , 0.13426955,\n",
       "       0.1847543 , 0.10943978, 0.9868731 , 0.09883882, 0.12670858,\n",
       "       0.15180652, 0.89426184, 0.21147247, 0.13076158, 0.2876358 ,\n",
       "       0.98069084, 0.15234673, 0.97890615, 0.2429824 , 0.37368366,\n",
       "       0.15950644, 0.2395243 , 0.16147989, 0.91990006, 0.3378276 ,\n",
       "       0.2912181 , 0.96024543, 0.9492886 , 0.8203582 , 0.13801757,\n",
       "       0.30091402, 0.9662779 , 0.4337564 , 0.502329  , 0.15235962,\n",
       "       0.5976573 , 0.20072152, 0.14624505, 0.8053122 , 0.41263342,\n",
       "       0.56047344, 0.9752636 , 0.12927988, 0.08816474, 0.533937  ,\n",
       "       0.15332617, 0.8811768 , 0.20344315, 0.21249647, 0.35612595,\n",
       "       0.90562403, 0.19270013, 0.0797299 , 0.9827005 , 0.08630136,\n",
       "       0.13295028, 0.14140014, 0.16175571, 0.5281837 , 0.1315164 ,\n",
       "       0.1293769 , 0.3069867 , 0.59744775, 0.89077574, 0.4587716 ,\n",
       "       0.1425811 , 0.28455937, 0.1475134 , 0.9756478 , 0.13239855,\n",
       "       0.28709477, 0.22641875, 0.9689974 , 0.14895158, 0.10929088,\n",
       "       0.5605554 , 0.9549431 , 0.24315536, 0.6499615 , 0.1657059 ,\n",
       "       0.12974916, 0.19473003, 0.9076793 , 0.66629565], dtype=float32)"
      ]
     },
     "execution_count": 17,
     "metadata": {},
     "output_type": "execute_result"
    }
   ],
   "source": [
    "from sklearn.metrics import roc_curve\n",
    "y_pred_keras = model.predict(X_test).ravel()\n",
    "fpr_keras, tpr_keras, thresholds_keras = roc_curve(y_test, y_pred_keras)\n",
    "\n",
    "y_pred_keras"
   ]
  },
  {
   "cell_type": "code",
   "execution_count": 18,
   "metadata": {},
   "outputs": [
    {
     "data": {
      "text/plain": [
       "array([       inf, 0.9950081 , 0.92979145, 0.9212164 , 0.91990006,\n",
       "       0.918064  , 0.89077574, 0.8676119 , 0.65660334, 0.6499615 ,\n",
       "       0.59744775, 0.59736204, 0.5753755 , 0.56047344, 0.533937  ,\n",
       "       0.5281837 , 0.502329  , 0.48323068, 0.4337564 , 0.41263342,\n",
       "       0.4064617 , 0.37742814, 0.3646257 , 0.3643854 , 0.35612595,\n",
       "       0.3460333 , 0.3378276 , 0.30091402, 0.2912181 , 0.2876358 ,\n",
       "       0.28621203, 0.28455937, 0.24392381, 0.2429824 , 0.20344315,\n",
       "       0.20072152, 0.19658978, 0.19473003, 0.19104747, 0.1873596 ,\n",
       "       0.1657059 , 0.16225827, 0.13179444, 0.1308714 , 0.13082679,\n",
       "       0.13076158, 0.08364104, 0.08105543, 0.0431212 ], dtype=float32)"
      ]
     },
     "execution_count": 18,
     "metadata": {},
     "output_type": "execute_result"
    }
   ],
   "source": [
    "thresholds_keras"
   ]
  },
  {
   "cell_type": "code",
   "execution_count": 19,
   "metadata": {},
   "outputs": [
    {
     "data": {
      "text/plain": [
       "dtype('float64')"
      ]
     },
     "execution_count": 19,
     "metadata": {},
     "output_type": "execute_result"
    }
   ],
   "source": [
    "tpr_keras[0].dtype"
   ]
  },
  {
   "cell_type": "code",
   "execution_count": 20,
   "metadata": {},
   "outputs": [
    {
     "data": {
      "text/plain": [
       "array([0.        , 0.        , 0.        , 0.00952381, 0.00952381,\n",
       "       0.01904762, 0.01904762, 0.03809524, 0.03809524, 0.04761905,\n",
       "       0.04761905, 0.04761905, 0.07619048, 0.07619048, 0.1047619 ,\n",
       "       0.1047619 , 0.11428571, 0.11428571, 0.13333333, 0.13333333,\n",
       "       0.14285714, 0.14285714, 0.16190476, 0.16190476, 0.18095238,\n",
       "       0.18095238, 0.19047619, 0.19047619, 0.20952381, 0.20952381,\n",
       "       0.22857143, 0.22857143, 0.28571429, 0.28571429, 0.36190476,\n",
       "       0.36190476, 0.37142857, 0.37142857, 0.39047619, 0.39047619,\n",
       "       0.44761905, 0.44761905, 0.75238095, 0.80952381, 0.82857143,\n",
       "       0.82857143, 0.97142857, 0.97142857, 1.        ])"
      ]
     },
     "execution_count": 20,
     "metadata": {},
     "output_type": "execute_result"
    }
   ],
   "source": [
    "fpr_keras"
   ]
  },
  {
   "cell_type": "code",
   "execution_count": 21,
   "metadata": {},
   "outputs": [],
   "source": [
    "min_distance = 1000\n",
    "index = None\n",
    "\n",
    "for i in range(len(tpr_keras)):\n",
    "    point_1 = np.array((0, 1))\n",
    "    point_2 = np.array((fpr_keras[i], tpr_keras[i]))\n",
    "    distance = np.linalg.norm(point_1 - point_2)\n",
    "    if min_distance > distance:\n",
    "        min_distance = distance\n",
    "        index = i\n",
    "\n",
    "new_y = np.where(y_pred_keras > thresholds_keras[index], 1, 0)"
   ]
  },
  {
   "cell_type": "code",
   "execution_count": 22,
   "metadata": {},
   "outputs": [],
   "source": [
    "\n",
    "\n",
    "from sklearn.metrics import auc\n",
    "auc_keras = auc(fpr_keras, tpr_keras)\n",
    "\n"
   ]
  },
  {
   "cell_type": "code",
   "execution_count": 23,
   "metadata": {},
   "outputs": [
    {
     "data": {
      "image/png": "[encoded data removed]",
      "text/plain": [
       "<Figure size 640x480 with 1 Axes>"
      ]
     },
     "metadata": {},
     "output_type": "display_data"
    },
    {
     "data": {
      "image/png": "[encoded data removed]",
      "text/plain": [
       "<Figure size 640x480 with 1 Axes>"
      ]
     },
     "metadata": {},
     "output_type": "display_data"
    }
   ],
   "source": [
    "import matplotlib.pyplot as plt\n",
    "\n",
    "plt.figure(1)\n",
    "plt.plot([0, 1], [0, 1], 'k--')\n",
    "plt.plot(fpr_keras, tpr_keras, label='Keras (area = {:.3f})'.format(auc_keras))\n",
    "plt.xlabel('False positive rate')\n",
    "plt.ylabel('True positive rate')\n",
    "plt.title('ROC curve')\n",
    "plt.legend(loc='best')\n",
    "plt.show()\n",
    "# Zoom in view of the upper left corner.\n",
    "plt.figure(2)\n",
    "plt.xlim(0, 0.2)\n",
    "plt.ylim(0.8, 1)\n",
    "plt.plot([0, 1], [0, 1], 'k--')\n",
    "plt.plot(fpr_keras, tpr_keras, label='Keras (area = {:.3f})'.format(auc_keras))\n",
    "plt.xlabel('False positive rate')\n",
    "plt.ylabel('True positive rate')\n",
    "plt.title('ROC curve (zoomed in at top left)')\n",
    "plt.legend(loc='best')\n",
    "plt.show()"
   ]
  },
  {
   "cell_type": "code",
   "execution_count": 24,
   "metadata": {},
   "outputs": [
    {
     "name": "stdout",
     "output_type": "stream",
     "text": [
      "6/6 [==============================] - 1s 7ms/step - loss: 0.2750 - accuracy: 0.9062 - auc: 1.0000 - precision_m: 1.0000 - recall_m: 0.7985 - sensitivity_at_specificity: 1.0000 - specificity_at_sensitivity: 1.0000 - f1_m: 0.8849\n"
     ]
    }
   ],
   "source": [
    "results = model.evaluate(X_test, new_y)"
   ]
  }
 ],
 "metadata": {
  "kernelspec": {
   "display_name": "main",
   "language": "python",
   "name": "python3"
  },
  "language_info": {
   "codemirror_mode": {
    "name": "ipython",
    "version": 3
   },
   "file_extension": ".py",
   "mimetype": "text/x-python",
   "name": "python",
   "nbconvert_exporter": "python",
   "pygments_lexer": "ipython3",
   "version": "3.9.17"
  },
  "orig_nbformat": 4
 },
 "nbformat": 4,
 "nbformat_minor": 2
}
