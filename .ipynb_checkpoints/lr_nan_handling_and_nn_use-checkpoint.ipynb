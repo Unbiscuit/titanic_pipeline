{
 "cells": [
  {
   "cell_type": "code",
   "execution_count": 1,
   "id": "bc1ced05",
   "metadata": {
    "execution": {
     "iopub.execute_input": "2023-12-08T18:32:39.244945Z",
     "iopub.status.busy": "2023-12-08T18:32:39.244194Z",
     "iopub.status.idle": "2023-12-08T18:32:39.717029Z",
     "shell.execute_reply": "2023-12-08T18:32:39.716497Z"
    },
    "papermill": {
     "duration": 0.484026,
     "end_time": "2023-12-08T18:32:39.718476",
     "exception": false,
     "start_time": "2023-12-08T18:32:39.234450",
     "status": "completed"
    },
    "tags": []
   },
   "outputs": [],
   "source": [
    "import pandas as pd\n",
    "import numpy as np"
   ]
  },
  {
   "cell_type": "code",
   "execution_count": 2,
   "id": "22805c33",
   "metadata": {
    "execution": {
     "iopub.execute_input": "2023-12-08T18:32:39.724216Z",
     "iopub.status.busy": "2023-12-08T18:32:39.723775Z",
     "iopub.status.idle": "2023-12-08T18:32:39.729384Z",
     "shell.execute_reply": "2023-12-08T18:32:39.728783Z"
    },
    "papermill": {
     "duration": 0.009561,
     "end_time": "2023-12-08T18:32:39.730847",
     "exception": false,
     "start_time": "2023-12-08T18:32:39.721286",
     "status": "completed"
    },
    "tags": []
   },
   "outputs": [],
   "source": [
    "df = pd.read_csv('/home/uncookie/Documents/titanic_pipeline/df_after_preprocessing.csv')"
   ]
  },
  {
   "cell_type": "code",
   "execution_count": 3,
   "id": "07f7b1e8",
   "metadata": {
    "execution": {
     "iopub.execute_input": "2023-12-08T18:32:39.736203Z",
     "iopub.status.busy": "2023-12-08T18:32:39.735696Z",
     "iopub.status.idle": "2023-12-08T18:32:39.743809Z",
     "shell.execute_reply": "2023-12-08T18:32:39.743222Z"
    },
    "papermill": {
     "duration": 0.012244,
     "end_time": "2023-12-08T18:32:39.745279",
     "exception": false,
     "start_time": "2023-12-08T18:32:39.733035",
     "status": "completed"
    },
    "tags": []
   },
   "outputs": [],
   "source": [
    "def use_lr_to_a_column(df, column):\n",
    "    from sklearn.linear_model import LinearRegression\n",
    "    test_data = df[df[column].isnull()]\n",
    "    df.dropna(inplace=True)\n",
    "    x_train = df.drop(column,axis=1)\n",
    "    x_train = x_train.drop('Survived',axis=1)\n",
    "    y_train = df[column]\n",
    "    lr = LinearRegression()\n",
    "    lr.fit(x_train, y_train)\n",
    "    x_test = test_data[['Pclass','Sex', 'SibSp', 'Parch', 'Fare']]\n",
    "    y_pred = lr.predict(x_test)\n",
    "    return y_pred\n",
    "\n",
    "def fill_nan_with_lr(df):\n",
    "    df_without_age = df.loc[:, df.columns != 'Age']\n",
    "    df_without_cabin = df.loc[:, df.columns != 'Cabin']\n",
    "    a = pd.Series(use_lr_to_a_column(df_without_age, 'Cabin'))\n",
    "    b = pd.Series(use_lr_to_a_column(df_without_cabin, 'Age'))\n",
    "\n",
    "    nan_indices = df[df['Cabin'].isna()].index\n",
    "    for index, replacement_value in zip(nan_indices, a):\n",
    "        df.at[index, 'Cabin'] = replacement_value\n",
    "\n",
    "    nan_indices = df[df['Age'].isna()].index\n",
    "    for index, replacement_value in zip(nan_indices, b):\n",
    "        df.at[index, 'Age'] = replacement_value\n",
    "\n",
    "    return df"
   ]
  },
  {
   "cell_type": "code",
   "execution_count": 4,
   "id": "3c152b63",
   "metadata": {
    "execution": {
     "iopub.execute_input": "2023-12-08T18:32:39.750997Z",
     "iopub.status.busy": "2023-12-08T18:32:39.750739Z",
     "iopub.status.idle": "2023-12-08T18:32:40.191490Z",
     "shell.execute_reply": "2023-12-08T18:32:40.190885Z"
    },
    "papermill": {
     "duration": 0.444898,
     "end_time": "2023-12-08T18:32:40.192678",
     "exception": false,
     "start_time": "2023-12-08T18:32:39.747780",
     "status": "completed"
    },
    "tags": []
   },
   "outputs": [
    {
     "name": "stderr",
     "output_type": "stream",
     "text": [
      "/tmp/ipykernel_40224/1226395653.py:4: SettingWithCopyWarning: \n",
      "A value is trying to be set on a copy of a slice from a DataFrame\n",
      "\n",
      "See the caveats in the documentation: https://pandas.pydata.org/pandas-docs/stable/user_guide/indexing.html#returning-a-view-versus-a-copy\n",
      "  df.dropna(inplace=True)\n",
      "/tmp/ipykernel_40224/1226395653.py:4: SettingWithCopyWarning: \n",
      "A value is trying to be set on a copy of a slice from a DataFrame\n",
      "\n",
      "See the caveats in the documentation: https://pandas.pydata.org/pandas-docs/stable/user_guide/indexing.html#returning-a-view-versus-a-copy\n",
      "  df.dropna(inplace=True)\n"
     ]
    }
   ],
   "source": [
    "df = fill_nan_with_lr(df)\n",
    "df.to_csv(\"df_after_lr.csv\", index=False)"
   ]
  },
  {
   "cell_type": "code",
   "execution_count": 5,
   "id": "ff55527e",
   "metadata": {
    "execution": {
     "iopub.execute_input": "2023-12-08T18:32:40.197030Z",
     "iopub.status.busy": "2023-12-08T18:32:40.196696Z",
     "iopub.status.idle": "2023-12-08T18:32:40.200755Z",
     "shell.execute_reply": "2023-12-08T18:32:40.199897Z"
    },
    "papermill": {
     "duration": 0.00824,
     "end_time": "2023-12-08T18:32:40.202481",
     "exception": false,
     "start_time": "2023-12-08T18:32:40.194241",
     "status": "completed"
    },
    "tags": []
   },
   "outputs": [],
   "source": [
    "import numpy as np\n",
    "from sklearn.model_selection import train_test_split\n",
    "\n",
    "y = df['Survived']\n",
    "df = df.loc[:, df.columns != 'Survived']"
   ]
  },
  {
   "cell_type": "code",
   "execution_count": 6,
   "id": "390ea77e",
   "metadata": {
    "execution": {
     "iopub.execute_input": "2023-12-08T18:32:40.206533Z",
     "iopub.status.busy": "2023-12-08T18:32:40.206083Z",
     "iopub.status.idle": "2023-12-08T18:32:40.214512Z",
     "shell.execute_reply": "2023-12-08T18:32:40.212456Z"
    },
    "papermill": {
     "duration": 0.01194,
     "end_time": "2023-12-08T18:32:40.215812",
     "exception": false,
     "start_time": "2023-12-08T18:32:40.203872",
     "status": "completed"
    },
    "tags": []
   },
   "outputs": [],
   "source": [
    "df = (df-df.mean())/df.std()\n",
    "\n",
    "X_train, X_test, y_train, y_test = train_test_split(df, y, test_size=0.2, random_state=42)"
   ]
  },
  {
   "cell_type": "code",
   "execution_count": 7,
   "id": "8008da52",
   "metadata": {
    "execution": {
     "iopub.execute_input": "2023-12-08T18:32:40.220055Z",
     "iopub.status.busy": "2023-12-08T18:32:40.219861Z",
     "iopub.status.idle": "2023-12-08T18:32:46.678452Z",
     "shell.execute_reply": "2023-12-08T18:32:46.677592Z"
    },
    "papermill": {
     "duration": 6.463415,
     "end_time": "2023-12-08T18:32:46.680670",
     "exception": false,
     "start_time": "2023-12-08T18:32:40.217255",
     "status": "completed"
    },
    "tags": []
   },
   "outputs": [
    {
     "name": "stderr",
     "output_type": "stream",
     "text": [
      "2023-12-08 21:32:40.325528: I tensorflow/core/platform/cpu_feature_guard.cc:182] This TensorFlow binary is optimized to use available CPU instructions in performance-critical operations.\n",
      "To enable the following instructions: SSE4.1 SSE4.2 AVX AVX2 FMA, in other operations, rebuild TensorFlow with the appropriate compiler flags.\n"
     ]
    },
    {
     "name": "stdout",
     "output_type": "stream",
     "text": [
      "Epoch 1/20\n"
     ]
    },
    {
     "name": "stderr",
     "output_type": "stream",
     "text": [
      "2023-12-08 21:32:41.473584: I tensorflow/core/common_runtime/process_util.cc:146] Creating new thread pool with default inter op setting: 2. Tune using inter_op_parallelism_threads for best performance.\n"
     ]
    },
    {
     "name": "stdout",
     "output_type": "stream",
     "text": [
      "36/36 [==============================] - 2s 20ms/step - loss: 0.6712 - accuracy: 0.6098 - auc: 0.5194 - precision_m: 0.3565 - recall_m: 0.0951 - sensitivity_at_specificity: 0.5229 - specificity_at_sensitivity: 0.5071 - f1_m: 0.1439 - val_loss: 0.5908 - val_accuracy: 0.6993 - val_auc: 0.8102 - val_precision_m: 0.6296 - val_recall_m: 0.1642 - val_sensitivity_at_specificity: 0.9400 - val_specificity_at_sensitivity: 0.9247 - val_f1_m: 0.2533\n",
      "Epoch 2/20\n",
      "36/36 [==============================] - 0s 8ms/step - loss: 0.5700 - accuracy: 0.7452 - auc: 0.8070 - precision_m: 0.8440 - recall_m: 0.3707 - sensitivity_at_specificity: 0.8807 - specificity_at_sensitivity: 0.9088 - f1_m: 0.4901 - val_loss: 0.5058 - val_accuracy: 0.8112 - val_auc: 0.8701 - val_precision_m: 0.9167 - val_recall_m: 0.5671 - val_sensitivity_at_specificity: 0.9400 - val_specificity_at_sensitivity: 0.9785 - val_f1_m: 0.6733\n",
      "Epoch 3/20\n",
      "36/36 [==============================] - 1s 15ms/step - loss: 0.5100 - accuracy: 0.7856 - auc: 0.8321 - precision_m: 0.8546 - recall_m: 0.5088 - sensitivity_at_specificity: 0.8899 - specificity_at_sensitivity: 0.9573 - f1_m: 0.6088 - val_loss: 0.4506 - val_accuracy: 0.8112 - val_auc: 0.8782 - val_precision_m: 0.8944 - val_recall_m: 0.5893 - val_sensitivity_at_specificity: 0.9400 - val_specificity_at_sensitivity: 0.9785 - val_f1_m: 0.6808\n",
      "Epoch 4/20\n",
      "36/36 [==============================] - 1s 15ms/step - loss: 0.4774 - accuracy: 0.7944 - auc: 0.8395 - precision_m: 0.8694 - recall_m: 0.5450 - sensitivity_at_specificity: 0.8899 - specificity_at_sensitivity: 0.9715 - f1_m: 0.6434 - val_loss: 0.4231 - val_accuracy: 0.8392 - val_auc: 0.8837 - val_precision_m: 0.8272 - val_recall_m: 0.7352 - val_sensitivity_at_specificity: 0.9400 - val_specificity_at_sensitivity: 0.9785 - val_f1_m: 0.7584\n",
      "Epoch 5/20\n",
      "36/36 [==============================] - 1s 14ms/step - loss: 0.4597 - accuracy: 0.8049 - auc: 0.8415 - precision_m: 0.8075 - recall_m: 0.6353 - sensitivity_at_specificity: 0.8807 - specificity_at_sensitivity: 0.9715 - f1_m: 0.6919 - val_loss: 0.4106 - val_accuracy: 0.8392 - val_auc: 0.8834 - val_precision_m: 0.8139 - val_recall_m: 0.7491 - val_sensitivity_at_specificity: 0.9400 - val_specificity_at_sensitivity: 0.9785 - val_f1_m: 0.7610\n",
      "Epoch 6/20\n",
      "36/36 [==============================] - 1s 14ms/step - loss: 0.4481 - accuracy: 0.8032 - auc: 0.8444 - precision_m: 0.8155 - recall_m: 0.6619 - sensitivity_at_specificity: 0.8899 - specificity_at_sensitivity: 0.9658 - f1_m: 0.7072 - val_loss: 0.4058 - val_accuracy: 0.8322 - val_auc: 0.8839 - val_precision_m: 0.7584 - val_recall_m: 0.7491 - val_sensitivity_at_specificity: 0.9400 - val_specificity_at_sensitivity: 0.9785 - val_f1_m: 0.7240\n",
      "Epoch 7/20\n",
      "36/36 [==============================] - 0s 10ms/step - loss: 0.4426 - accuracy: 0.7996 - auc: 0.8482 - precision_m: 0.7931 - recall_m: 0.6634 - sensitivity_at_specificity: 0.8899 - specificity_at_sensitivity: 0.9687 - f1_m: 0.6923 - val_loss: 0.4007 - val_accuracy: 0.8322 - val_auc: 0.8835 - val_precision_m: 0.7584 - val_recall_m: 0.7491 - val_sensitivity_at_specificity: 0.9400 - val_specificity_at_sensitivity: 0.9785 - val_f1_m: 0.7240\n",
      "Epoch 8/20\n",
      "36/36 [==============================] - 0s 12ms/step - loss: 0.4373 - accuracy: 0.8102 - auc: 0.8500 - precision_m: 0.8182 - recall_m: 0.6698 - sensitivity_at_specificity: 0.8853 - specificity_at_sensitivity: 0.9601 - f1_m: 0.7177 - val_loss: 0.3981 - val_accuracy: 0.8322 - val_auc: 0.8885 - val_precision_m: 0.7584 - val_recall_m: 0.7491 - val_sensitivity_at_specificity: 0.9400 - val_specificity_at_sensitivity: 0.9892 - val_f1_m: 0.7240\n"
     ]
    }
   ],
   "source": [
    "from tensorflow import keras\n",
    "from keras import backend as K\n",
    "from tensorflow.keras import layers\n",
    "\n",
    "model = keras.Sequential([\n",
    "    layers.Dense(32, activation=\"relu\"),\n",
    "    layers.Dense(16, activation=\"relu\"),\n",
    "    layers.Dense(1, activation=\"sigmoid\")\n",
    "])\n",
    "\n",
    "callbacks_list = [\n",
    "    keras.callbacks.EarlyStopping(\n",
    "        monitor=\"val_accuracy\",\n",
    "        patience=4,\n",
    "    ),\n",
    "    keras.callbacks.ModelCheckpoint(\n",
    "        filepath=\"checkpoint_path.keras\",\n",
    "        monitor=\"val_loss\",\n",
    "        save_best_only=True,\n",
    ")\n",
    "]\n",
    "\n",
    "model.compile(optimizer=\"rmsprop\", loss=\"binary_crossentropy\", metrics=['accuracy'])\n",
    "\n",
    "history = model.fit(X_train,\n",
    "                    y_train,\n",
    "                    epochs=20,\n",
    "                    callbacks=callbacks_list,\n",
    "                    batch_size=16,\n",
    "                    validation_split=0.2)"
   ]
  },
  {
   "cell_type": "code",
   "execution_count": 8,
   "id": "6836675b",
   "metadata": {
    "execution": {
     "iopub.execute_input": "2023-12-08T18:32:46.707308Z",
     "iopub.status.busy": "2023-12-08T18:32:46.706931Z",
     "iopub.status.idle": "2023-12-08T18:32:46.712496Z",
     "shell.execute_reply": "2023-12-08T18:32:46.711645Z"
    },
    "papermill": {
     "duration": 0.021592,
     "end_time": "2023-12-08T18:32:46.714664",
     "exception": false,
     "start_time": "2023-12-08T18:32:46.693072",
     "status": "completed"
    },
    "tags": []
   },
   "outputs": [],
   "source": [
    "model.save('lr_nan_model.keras')\n",
    "\n",
    "with open('acc_of_lr_nan_handling_model.txt', 'w') as file:\n",
    "    history_dict = history.history\n",
    "    acc = history_dict['val_accuracy'][-1]\n",
    "    file.write(f'{acc}')"
   ]
  }
 ],
 "metadata": {
  "kernelspec": {
   "display_name": "Python 3 (ipykernel)",
   "language": "python",
   "name": "python3"
  },
  "language_info": {
   "codemirror_mode": {
    "name": "ipython",
    "version": 3
   },
   "file_extension": ".py",
   "mimetype": "text/x-python",
   "name": "python",
   "nbconvert_exporter": "python",
   "pygments_lexer": "ipython3",
   "version": "3.9.18"
  },
  "papermill": {
   "default_parameters": {},
   "duration": 9.125845,
   "end_time": "2023-12-08T18:32:47.352594",
   "environment_variables": {},
   "exception": null,
   "input_path": "/home/uncookie/Documents/titanic_pipeline/lr_nan_handling_and_nn_use.ipynb",
   "output_path": "/home/uncookie/Documents/titanic_pipeline/lr_nan_handling_and_nn_use.ipynb",
   "parameters": {},
   "start_time": "2023-12-08T18:32:38.226749",
   "version": "2.4.0"
  }
 },
 "nbformat": 4,
 "nbformat_minor": 5
}
