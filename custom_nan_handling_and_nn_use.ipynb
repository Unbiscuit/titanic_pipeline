{
 "cells": [
  {
   "cell_type": "code",
   "execution_count": 1,
   "id": "a5008deb",
   "metadata": {
    "execution": {
     "iopub.execute_input": "2023-12-08T19:37:31.509299Z",
     "iopub.status.busy": "2023-12-08T19:37:31.508666Z",
     "iopub.status.idle": "2023-12-08T19:37:31.918170Z",
     "shell.execute_reply": "2023-12-08T19:37:31.917614Z"
    },
    "papermill": {
     "duration": 0.419116,
     "end_time": "2023-12-08T19:37:31.919503",
     "exception": false,
     "start_time": "2023-12-08T19:37:31.500387",
     "status": "completed"
    },
    "tags": []
   },
   "outputs": [],
   "source": [
    "import pandas as pd\n",
    "import numpy as np"
   ]
  },
  {
   "cell_type": "code",
   "execution_count": 2,
   "id": "a3033a5b",
   "metadata": {
    "execution": {
     "iopub.execute_input": "2023-12-08T19:37:31.923660Z",
     "iopub.status.busy": "2023-12-08T19:37:31.923437Z",
     "iopub.status.idle": "2023-12-08T19:37:31.928339Z",
     "shell.execute_reply": "2023-12-08T19:37:31.927847Z"
    },
    "papermill": {
     "duration": 0.008388,
     "end_time": "2023-12-08T19:37:31.929610",
     "exception": false,
     "start_time": "2023-12-08T19:37:31.921222",
     "status": "completed"
    },
    "tags": []
   },
   "outputs": [],
   "source": [
    "df = pd.read_csv('/home/uncookie/Documents/titanic_pipeline/df_after_preprocessing.csv')"
   ]
  },
  {
   "cell_type": "code",
   "execution_count": 3,
   "id": "6f8d70b3",
   "metadata": {
    "execution": {
     "iopub.execute_input": "2023-12-08T19:37:31.934471Z",
     "iopub.status.busy": "2023-12-08T19:37:31.934289Z",
     "iopub.status.idle": "2023-12-08T19:37:31.938834Z",
     "shell.execute_reply": "2023-12-08T19:37:31.938428Z"
    },
    "papermill": {
     "duration": 0.008373,
     "end_time": "2023-12-08T19:37:31.940125",
     "exception": false,
     "start_time": "2023-12-08T19:37:31.931752",
     "status": "completed"
    },
    "tags": []
   },
   "outputs": [],
   "source": [
    "import random\n",
    "\n",
    "def fill_nan_based_on_column2(row):\n",
    "    if pd.isna(row['Cabin']):\n",
    "        if row['Pclass'] == 1:\n",
    "            return random.choice([7, 6, 5, 4, 3])\n",
    "        elif row['Pclass'] == 2:\n",
    "            return random.choice([4, 3, 2])\n",
    "        elif row['Pclass'] == 3:\n",
    "            return random.choice([4, 3, 2, 1])\n",
    "    else:\n",
    "        return row['Cabin']\n",
    "\n",
    "def fill_nan_with_values(df):\n",
    "    df['Age'] = df['Age'].fillna(df['Age'].mean())\n",
    "    df['Cabin'] = df.apply(fill_nan_based_on_column2, axis=1)\n",
    "\n",
    "    \n",
    "    return df"
   ]
  },
  {
   "cell_type": "code",
   "execution_count": 4,
   "id": "8128f337",
   "metadata": {
    "execution": {
     "iopub.execute_input": "2023-12-08T19:37:31.944328Z",
     "iopub.status.busy": "2023-12-08T19:37:31.944101Z",
     "iopub.status.idle": "2023-12-08T19:37:31.962742Z",
     "shell.execute_reply": "2023-12-08T19:37:31.962198Z"
    },
    "papermill": {
     "duration": 0.022247,
     "end_time": "2023-12-08T19:37:31.964084",
     "exception": false,
     "start_time": "2023-12-08T19:37:31.941837",
     "status": "completed"
    },
    "tags": []
   },
   "outputs": [],
   "source": [
    "df = fill_nan_with_values(df)\n",
    "df.to_csv(\"df_after_handmade.csv\", index=False)"
   ]
  },
  {
   "cell_type": "code",
   "execution_count": 5,
   "id": "58902f1d",
   "metadata": {
    "execution": {
     "iopub.execute_input": "2023-12-08T19:37:31.967861Z",
     "iopub.status.busy": "2023-12-08T19:37:31.967612Z",
     "iopub.status.idle": "2023-12-08T19:37:32.260833Z",
     "shell.execute_reply": "2023-12-08T19:37:32.260236Z"
    },
    "papermill": {
     "duration": 0.296663,
     "end_time": "2023-12-08T19:37:32.262110",
     "exception": false,
     "start_time": "2023-12-08T19:37:31.965447",
     "status": "completed"
    },
    "tags": []
   },
   "outputs": [],
   "source": [
    "import numpy as np\n",
    "from sklearn.model_selection import train_test_split\n",
    "\n",
    "y = df['Survived']\n",
    "df = df.loc[:, df.columns != 'Survived']"
   ]
  },
  {
   "cell_type": "code",
   "execution_count": 6,
   "id": "0063afa1",
   "metadata": {
    "execution": {
     "iopub.execute_input": "2023-12-08T19:37:32.266079Z",
     "iopub.status.busy": "2023-12-08T19:37:32.265725Z",
     "iopub.status.idle": "2023-12-08T19:37:32.272685Z",
     "shell.execute_reply": "2023-12-08T19:37:32.272133Z"
    },
    "papermill": {
     "duration": 0.010472,
     "end_time": "2023-12-08T19:37:32.274041",
     "exception": false,
     "start_time": "2023-12-08T19:37:32.263569",
     "status": "completed"
    },
    "tags": []
   },
   "outputs": [],
   "source": [
    "df = (df-df.mean())/df.std()\n",
    "\n",
    "X_train, X_test, y_train, y_test = train_test_split(df, y, test_size=0.2, random_state=42)"
   ]
  },
  {
   "cell_type": "code",
   "execution_count": 7,
   "id": "856147b8",
   "metadata": {
    "execution": {
     "iopub.execute_input": "2023-12-08T19:37:32.278102Z",
     "iopub.status.busy": "2023-12-08T19:37:32.277917Z",
     "iopub.status.idle": "2023-12-08T19:37:36.450538Z",
     "shell.execute_reply": "2023-12-08T19:37:36.449546Z"
    },
    "papermill": {
     "duration": 4.178017,
     "end_time": "2023-12-08T19:37:36.453446",
     "exception": false,
     "start_time": "2023-12-08T19:37:32.275429",
     "status": "completed"
    },
    "tags": []
   },
   "outputs": [
    {
     "name": "stderr",
     "output_type": "stream",
     "text": [
      "2023-12-08 22:37:32.377447: I tensorflow/core/platform/cpu_feature_guard.cc:182] This TensorFlow binary is optimized to use available CPU instructions in performance-critical operations.\n",
      "To enable the following instructions: SSE4.1 SSE4.2 AVX AVX2 FMA, in other operations, rebuild TensorFlow with the appropriate compiler flags.\n"
     ]
    },
    {
     "name": "stdout",
     "output_type": "stream",
     "text": [
      "Epoch 1/20\n"
     ]
    },
    {
     "name": "stderr",
     "output_type": "stream",
     "text": [
      "2023-12-08 22:37:33.497563: I tensorflow/core/common_runtime/process_util.cc:146] Creating new thread pool with default inter op setting: 2. Tune using inter_op_parallelism_threads for best performance.\n"
     ]
    },
    {
     "name": "stdout",
     "output_type": "stream",
     "text": [
      "\r",
      " 1/36 [..............................] - ETA: 15s - loss: 0.6798 - accuracy: 0.6875"
     ]
    },
    {
     "name": "stdout",
     "output_type": "stream",
     "text": [
      "\b\b\b\b\b\b\b\b\b\b\b\b\b\b\b\b\b\b\b\b\b\b\b\b\b\b\b\b\b\b\b\b\b\b\b\b\b\b\b\b\b\b\b\b\b\b\b\b\b\b\b\b\b\b\b\b\b\b\b\b\b\b\b\b\b\b\b\b\b\b\b\b\b\b\b\b\b\b\b\b\b\b\b\r",
      "15/36 [===========>..................] - ETA: 0s - loss: 0.6859 - accuracy: 0.6333 "
     ]
    },
    {
     "name": "stdout",
     "output_type": "stream",
     "text": [
      "\b\b\b\b\b\b\b\b\b\b\b\b\b\b\b\b\b\b\b\b\b\b\b\b\b\b\b\b\b\b\b\b\b\b\b\b\b\b\b\b\b\b\b\b\b\b\b\b\b\b\b\b\b\b\b\b\b\b\b\b\b\b\b\b\b\b\b\b\b\b\b\b\b\b\b\b\b\b\b\b\b\b\r",
      "23/36 [==================>...........] - ETA: 0s - loss: 0.6601 - accuracy: 0.6739"
     ]
    },
    {
     "name": "stdout",
     "output_type": "stream",
     "text": [
      "\b\b\b\b\b\b\b\b\b\b\b\b\b\b\b\b\b\b\b\b\b\b\b\b\b\b\b\b\b\b\b\b\b\b\b\b\b\b\b\b\b\b\b\b\b\b\b\b\b\b\b\b\b\b\b\b\b\b\b\b\b\b\b\b\b\b\b\b\b\b\b\b\b\b\b\b\b\b\b\b\b\b\r",
      "32/36 [=========================>....] - ETA: 0s - loss: 0.6330 - accuracy: 0.7148"
     ]
    },
    {
     "name": "stdout",
     "output_type": "stream",
     "text": [
      "\b\b\b\b\b\b\b\b\b\b\b\b\b\b\b\b\b\b\b\b\b\b\b\b\b\b\b\b\b\b\b\b\b\b\b\b\b\b\b\b\b\b\b\b\b\b\b\b\b\b\b\b\b\b\b\b\b\b\b\b\b\b\b\b\b\b\b\b\b\b\b\b\b\b\b\b\b\b\b\b\b\b\r",
      "36/36 [==============================] - 1s 19ms/step - loss: 0.6282 - accuracy: 0.7135 - val_loss: 0.5531 - val_accuracy: 0.7692\n"
     ]
    },
    {
     "name": "stdout",
     "output_type": "stream",
     "text": [
      "Epoch 2/20\n"
     ]
    },
    {
     "name": "stdout",
     "output_type": "stream",
     "text": [
      "\r",
      " 1/36 [..............................] - ETA: 0s - loss: 0.5994 - accuracy: 0.7500"
     ]
    },
    {
     "name": "stdout",
     "output_type": "stream",
     "text": [
      "\b\b\b\b\b\b\b\b\b\b\b\b\b\b\b\b\b\b\b\b\b\b\b\b\b\b\b\b\b\b\b\b\b\b\b\b\b\b\b\b\b\b\b\b\b\b\b\b\b\b\b\b\b\b\b\b\b\b\b\b\b\b\b\b\b\b\b\b\b\b\b\b\b\b\b\b\b\b\b\b\b\b\r",
      "17/36 [=============>................] - ETA: 0s - loss: 0.5799 - accuracy: 0.7353"
     ]
    },
    {
     "name": "stdout",
     "output_type": "stream",
     "text": [
      "\b\b\b\b\b\b\b\b\b\b\b\b\b\b\b\b\b\b\b\b\b\b\b\b\b\b\b\b\b\b\b\b\b\b\b\b\b\b\b\b\b\b\b\b\b\b\b\b\b\b\b\b\b\b\b\b\b\b\b\b\b\b\b\b\b\b\b\b\b\b\b\b\b\b\b\b\b\b\b\b\b\b\r",
      "36/36 [==============================] - ETA: 0s - loss: 0.5500 - accuracy: 0.7645"
     ]
    },
    {
     "name": "stdout",
     "output_type": "stream",
     "text": [
      "\b\b\b\b\b\b\b\b\b\b\b\b\b\b\b\b\b\b\b\b\b\b\b\b\b\b\b\b\b\b\b\b\b\b\b\b\b\b\b\b\b\b\b\b\b\b\b\b\b\b\b\b\b\b\b\b\b\b\b\b\b\b\b\b\b\b\b\b\b\b\b\b\b\b\b\b\b\b\b\b\b\b\r",
      "36/36 [==============================] - 0s 6ms/step - loss: 0.5500 - accuracy: 0.7645 - val_loss: 0.4873 - val_accuracy: 0.8182\n"
     ]
    },
    {
     "name": "stdout",
     "output_type": "stream",
     "text": [
      "Epoch 3/20\n"
     ]
    },
    {
     "name": "stdout",
     "output_type": "stream",
     "text": [
      "\r",
      " 1/36 [..............................] - ETA: 0s - loss: 0.6801 - accuracy: 0.5625"
     ]
    },
    {
     "name": "stdout",
     "output_type": "stream",
     "text": [
      "\b\b\b\b\b\b\b\b\b\b\b\b\b\b\b\b\b\b\b\b\b\b\b\b\b\b\b\b\b\b\b\b\b\b\b\b\b\b\b\b\b\b\b\b\b\b\b\b\b\b\b\b\b\b\b\b\b\b\b\b\b\b\b\b\b\b\b\b\b\b\b\b\b\b\b\b\b\b\b\b\b\b\r",
      "13/36 [=========>....................] - ETA: 0s - loss: 0.5384 - accuracy: 0.7788"
     ]
    },
    {
     "name": "stdout",
     "output_type": "stream",
     "text": [
      "\b\b\b\b\b\b\b\b\b\b\b\b\b\b\b\b\b\b\b\b\b\b\b\b\b\b\b\b\b\b\b\b\b\b\b\b\b\b\b\b\b\b\b\b\b\b\b\b\b\b\b\b\b\b\b\b\b\b\b\b\b\b\b\b\b\b\b\b\b\b\b\b\b\b\b\b\b\b\b\b\b\b\r",
      "24/36 [===================>..........] - ETA: 0s - loss: 0.5164 - accuracy: 0.7891"
     ]
    },
    {
     "name": "stdout",
     "output_type": "stream",
     "text": [
      "\b\b\b\b\b\b\b\b\b\b\b\b\b\b\b\b\b\b\b\b\b\b\b\b\b\b\b\b\b\b\b\b\b\b\b\b\b\b\b\b\b\b\b\b\b\b\b\b\b\b\b\b\b\b\b\b\b\b\b\b\b\b\b\b\b\b\b\b\b\b\b\b\b\b\b\b\b\b\b\b\b\b\r",
      "36/36 [==============================] - 0s 7ms/step - loss: 0.5056 - accuracy: 0.7873 - val_loss: 0.4502 - val_accuracy: 0.8392\n"
     ]
    },
    {
     "name": "stdout",
     "output_type": "stream",
     "text": [
      "Epoch 4/20\n"
     ]
    },
    {
     "name": "stdout",
     "output_type": "stream",
     "text": [
      "\r",
      " 1/36 [..............................] - ETA: 0s - loss: 0.5911 - accuracy: 0.6875"
     ]
    },
    {
     "name": "stdout",
     "output_type": "stream",
     "text": [
      "\b\b\b\b\b\b\b\b\b\b\b\b\b\b\b\b\b\b\b\b\b\b\b\b\b\b\b\b\b\b\b\b\b\b\b\b\b\b\b\b\b\b\b\b\b\b\b\b\b\b\b\b\b\b\b\b\b\b\b\b\b\b\b\b\b\b\b\b\b\b\b\b\b\b\b\b\b\b\b\b\b\b\r",
      "11/36 [========>.....................] - ETA: 0s - loss: 0.4521 - accuracy: 0.8125"
     ]
    },
    {
     "name": "stdout",
     "output_type": "stream",
     "text": [
      "\b\b\b\b\b\b\b\b\b\b\b\b\b\b\b\b\b\b\b\b\b\b\b\b\b\b\b\b\b\b\b\b\b\b\b\b\b\b\b\b\b\b\b\b\b\b\b\b\b\b\b\b\b\b\b\b\b\b\b\b\b\b\b\b\b\b\b\b\b\b\b\b\b\b\b\b\b\b\b\b\b\b\r",
      "17/36 [=============>................] - ETA: 0s - loss: 0.4683 - accuracy: 0.8051"
     ]
    },
    {
     "name": "stdout",
     "output_type": "stream",
     "text": [
      "\b\b\b\b\b\b\b\b\b\b\b\b\b\b\b\b\b\b\b\b\b\b\b\b\b\b\b\b\b\b\b\b\b\b\b\b\b\b\b\b\b\b\b\b\b\b\b\b\b\b\b\b\b\b\b\b\b\b\b\b\b\b\b\b\b\b\b\b\b\b\b\b\b\b\b\b\b\b\b\b\b\b\r",
      "26/36 [====================>.........] - ETA: 0s - loss: 0.4751 - accuracy: 0.8029"
     ]
    },
    {
     "name": "stdout",
     "output_type": "stream",
     "text": [
      "\b\b\b\b\b\b\b\b\b\b\b\b\b\b\b\b\b\b\b\b\b\b\b\b\b\b\b\b\b\b\b\b\b\b\b\b\b\b\b\b\b\b\b\b\b\b\b\b\b\b\b\b\b\b\b\b\b\b\b\b\b\b\b\b\b\b\b\b\b\b\b\b\b\b\b\b\b\b\b\b\b\b\r",
      "35/36 [============================>.] - ETA: 0s - loss: 0.4771 - accuracy: 0.8000"
     ]
    },
    {
     "name": "stdout",
     "output_type": "stream",
     "text": [
      "\b\b\b\b\b\b\b\b\b\b\b\b\b\b\b\b\b\b\b\b\b\b\b\b\b\b\b\b\b\b\b\b\b\b\b\b\b\b\b\b\b\b\b\b\b\b\b\b\b\b\b\b\b\b\b\b\b\b\b\b\b\b\b\b\b\b\b\b\b\b\b\b\b\b\b\b\b\b\b\b\b\b\r",
      "36/36 [==============================] - 0s 11ms/step - loss: 0.4806 - accuracy: 0.7979 - val_loss: 0.4346 - val_accuracy: 0.8392\n"
     ]
    },
    {
     "name": "stdout",
     "output_type": "stream",
     "text": [
      "Epoch 5/20\n"
     ]
    },
    {
     "name": "stdout",
     "output_type": "stream",
     "text": [
      "\r",
      " 1/36 [..............................] - ETA: 0s - loss: 0.4199 - accuracy: 0.7500"
     ]
    },
    {
     "name": "stdout",
     "output_type": "stream",
     "text": [
      "\b\b\b\b\b\b\b\b\b\b\b\b\b\b\b\b\b\b\b\b\b\b\b\b\b\b\b\b\b\b\b\b\b\b\b\b\b\b\b\b\b\b\b\b\b\b\b\b\b\b\b\b\b\b\b\b\b\b\b\b\b\b\b\b\b\b\b\b\b\b\b\b\b\b\b\b\b\b\b\b\b\b\r",
      "15/36 [===========>..................] - ETA: 0s - loss: 0.4710 - accuracy: 0.8042"
     ]
    },
    {
     "name": "stdout",
     "output_type": "stream",
     "text": [
      "\b\b\b\b\b\b\b\b\b\b\b\b\b\b\b\b\b\b\b\b\b\b\b\b\b\b\b\b\b\b\b\b\b\b\b\b\b\b\b\b\b\b\b\b\b\b\b\b\b\b\b\b\b\b\b\b\b\b\b\b\b\b\b\b\b\b\b\b\b\b\b\b\b\b\b\b\b\b\b\b\b\b\r",
      "23/36 [==================>...........] - ETA: 0s - loss: 0.4592 - accuracy: 0.8152"
     ]
    },
    {
     "name": "stdout",
     "output_type": "stream",
     "text": [
      "\b\b\b\b\b\b\b\b\b\b\b\b\b\b\b\b\b\b\b\b\b\b\b\b\b\b\b\b\b\b\b\b\b\b\b\b\b\b\b\b\b\b\b\b\b\b\b\b\b\b\b\b\b\b\b\b\b\b\b\b\b\b\b\b\b\b\b\b\b\b\b\b\b\b\b\b\b\b\b\b\b\b\r",
      "36/36 [==============================] - 0s 9ms/step - loss: 0.4669 - accuracy: 0.8014 - val_loss: 0.4222 - val_accuracy: 0.8322\n"
     ]
    },
    {
     "name": "stdout",
     "output_type": "stream",
     "text": [
      "Epoch 6/20\n"
     ]
    },
    {
     "name": "stdout",
     "output_type": "stream",
     "text": [
      "\r",
      " 1/36 [..............................] - ETA: 0s - loss: 0.2657 - accuracy: 0.9375"
     ]
    },
    {
     "name": "stdout",
     "output_type": "stream",
     "text": [
      "\b\b\b\b\b\b\b\b\b\b\b\b\b\b\b\b\b\b\b\b\b\b\b\b\b\b\b\b\b\b\b\b\b\b\b\b\b\b\b\b\b\b\b\b\b\b\b\b\b\b\b\b\b\b\b\b\b\b\b\b\b\b\b\b\b\b\b\b\b\b\b\b\b\b\b\b\b\b\b\b\b\b\r",
      "11/36 [========>.....................] - ETA: 0s - loss: 0.4740 - accuracy: 0.7898"
     ]
    },
    {
     "name": "stdout",
     "output_type": "stream",
     "text": [
      "\b\b\b\b\b\b\b\b\b\b\b\b\b\b\b\b\b\b\b\b\b\b\b\b\b\b\b\b\b\b\b\b\b\b\b\b\b\b\b\b\b\b\b\b\b\b\b\b\b\b\b\b\b\b\b\b\b\b\b\b\b\b\b\b\b\b\b\b\b\b\b\b\b\b\b\b\b\b\b\b\b\b\r",
      "19/36 [==============>...............] - ETA: 0s - loss: 0.4531 - accuracy: 0.8092"
     ]
    },
    {
     "name": "stdout",
     "output_type": "stream",
     "text": [
      "\b\b\b\b\b\b\b\b\b\b\b\b\b\b\b\b\b\b\b\b\b\b\b\b\b\b\b\b\b\b\b\b\b\b\b\b\b\b\b\b\b\b\b\b\b\b\b\b\b\b\b\b\b\b\b\b\b\b\b\b\b\b\b\b\b\b\b\b\b\b\b\b\b\b\b\b\b\b\b\b\b\b\r",
      "32/36 [=========================>....] - ETA: 0s - loss: 0.4622 - accuracy: 0.8066"
     ]
    },
    {
     "name": "stdout",
     "output_type": "stream",
     "text": [
      "\b\b\b\b\b\b\b\b\b\b\b\b\b\b\b\b\b\b\b\b\b\b\b\b\b\b\b\b\b\b\b\b\b\b\b\b\b\b\b\b\b\b\b\b\b\b\b\b\b\b\b\b\b\b\b\b\b\b\b\b\b\b\b\b\b\b\b\b\b\b\b\b\b\b\b\b\b\b\b\b\b\b\r",
      "36/36 [==============================] - 0s 10ms/step - loss: 0.4562 - accuracy: 0.8102 - val_loss: 0.4155 - val_accuracy: 0.8322\n"
     ]
    },
    {
     "name": "stdout",
     "output_type": "stream",
     "text": [
      "Epoch 7/20\n"
     ]
    },
    {
     "name": "stdout",
     "output_type": "stream",
     "text": [
      "\r",
      " 1/36 [..............................] - ETA: 0s - loss: 0.4378 - accuracy: 0.8750"
     ]
    },
    {
     "name": "stdout",
     "output_type": "stream",
     "text": [
      "\b\b\b\b\b\b\b\b\b\b\b\b\b\b\b\b\b\b\b\b\b\b\b\b\b\b\b\b\b\b\b\b\b\b\b\b\b\b\b\b\b\b\b\b\b\b\b\b\b\b\b\b\b\b\b\b\b\b\b\b\b\b\b\b\b\b\b\b\b\b\b\b\b\b\b\b\b\b\b\b\b\b\r",
      "16/36 [============>.................] - ETA: 0s - loss: 0.4217 - accuracy: 0.8281"
     ]
    },
    {
     "name": "stdout",
     "output_type": "stream",
     "text": [
      "\b\b\b\b\b\b\b\b\b\b\b\b\b\b\b\b\b\b\b\b\b\b\b\b\b\b\b\b\b\b\b\b\b\b\b\b\b\b\b\b\b\b\b\b\b\b\b\b\b\b\b\b\b\b\b\b\b\b\b\b\b\b\b\b\b\b\b\b\b\b\b\b\b\b\b\b\b\b\b\b\b\b\r",
      "31/36 [========================>.....] - ETA: 0s - loss: 0.4280 - accuracy: 0.8226"
     ]
    },
    {
     "name": "stdout",
     "output_type": "stream",
     "text": [
      "\b\b\b\b\b\b\b\b\b\b\b\b\b\b\b\b\b\b\b\b\b\b\b\b\b\b\b\b\b\b\b\b\b\b\b\b\b\b\b\b\b\b\b\b\b\b\b\b\b\b\b\b\b\b\b\b\b\b\b\b\b\b\b\b\b\b\b\b\b\b\b\b\b\b\b\b\b\b\b\b\b\b\r",
      "36/36 [==============================] - 0s 6ms/step - loss: 0.4490 - accuracy: 0.8120 - val_loss: 0.4112 - val_accuracy: 0.8392\n"
     ]
    }
   ],
   "source": [
    "from tensorflow import keras\n",
    "from keras import backend as K\n",
    "from tensorflow.keras import layers\n",
    "\n",
    "model = keras.Sequential([\n",
    "    layers.Dense(32, activation=\"relu\"),\n",
    "    layers.Dense(16, activation=\"relu\"),\n",
    "    layers.Dense(1, activation=\"sigmoid\")\n",
    "])\n",
    "\n",
    "callbacks_list = [\n",
    "    keras.callbacks.EarlyStopping(\n",
    "        monitor=\"val_accuracy\",\n",
    "        patience=4,\n",
    "    ),\n",
    "    keras.callbacks.ModelCheckpoint(\n",
    "        filepath=\"checkpoint_path.keras\",\n",
    "        monitor=\"val_loss\",\n",
    "        save_best_only=True,\n",
    ")\n",
    "]\n",
    "\n",
    "model.compile(optimizer=\"rmsprop\", loss=\"binary_crossentropy\", metrics=['accuracy'])\n",
    "\n",
    "history = model.fit(X_train,\n",
    "                    y_train,\n",
    "                    epochs=20,\n",
    "                    callbacks=callbacks_list,\n",
    "                    batch_size=16,\n",
    "                    validation_split=0.2)"
   ]
  },
  {
   "cell_type": "code",
   "execution_count": 8,
   "id": "1677dd3e",
   "metadata": {
    "execution": {
     "iopub.execute_input": "2023-12-08T19:37:36.474363Z",
     "iopub.status.busy": "2023-12-08T19:37:36.473551Z",
     "iopub.status.idle": "2023-12-08T19:37:36.496498Z",
     "shell.execute_reply": "2023-12-08T19:37:36.495547Z"
    },
    "papermill": {
     "duration": 0.036489,
     "end_time": "2023-12-08T19:37:36.498987",
     "exception": false,
     "start_time": "2023-12-08T19:37:36.462498",
     "status": "completed"
    },
    "tags": []
   },
   "outputs": [],
   "source": [
    "model.save('custom_nan_model.keras')\n",
    "\n",
    "with open('acc_of_handmade_nan_handling_model.txt', 'w') as file:\n",
    "    history_dict = history.history\n",
    "    acc = history_dict['val_accuracy'][-1]\n",
    "    file.write(f'{acc}')"
   ]
  }
 ],
 "metadata": {
  "kernelspec": {
   "display_name": "Python 3 (ipykernel)",
   "language": "python",
   "name": "python3"
  },
  "language_info": {
   "codemirror_mode": {
    "name": "ipython",
    "version": 3
   },
   "file_extension": ".py",
   "mimetype": "text/x-python",
   "name": "python",
   "nbconvert_exporter": "python",
   "pygments_lexer": "ipython3",
   "version": "3.9.18"
  },
  "papermill": {
   "default_parameters": {},
   "duration": 6.499706,
   "end_time": "2023-12-08T19:37:37.027043",
   "environment_variables": {},
   "exception": null,
   "input_path": "/home/uncookie/Documents/titanic_pipeline/custom_nan_handling_and_nn_use.ipynb",
   "output_path": "/home/uncookie/Documents/titanic_pipeline/custom_nan_handling_and_nn_use.ipynb",
   "parameters": {},
   "start_time": "2023-12-08T19:37:30.527337",
   "version": "2.4.0"
  }
 },
 "nbformat": 4,
 "nbformat_minor": 5
}