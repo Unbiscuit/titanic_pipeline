{
 "cells": [
  {
   "cell_type": "code",
   "execution_count": 1,
   "id": "2e2e90a3",
   "metadata": {
    "execution": {
     "iopub.execute_input": "2023-12-08T19:37:37.959528Z",
     "iopub.status.busy": "2023-12-08T19:37:37.958960Z",
     "iopub.status.idle": "2023-12-08T19:37:40.252546Z",
     "shell.execute_reply": "2023-12-08T19:37:40.251552Z"
    },
    "papermill": {
     "duration": 2.30118,
     "end_time": "2023-12-08T19:37:40.255030",
     "exception": false,
     "start_time": "2023-12-08T19:37:37.953850",
     "status": "completed"
    },
    "tags": []
   },
   "outputs": [
    {
     "name": "stderr",
     "output_type": "stream",
     "text": [
      "2023-12-08 22:37:38.292951: I tensorflow/core/platform/cpu_feature_guard.cc:182] This TensorFlow binary is optimized to use available CPU instructions in performance-critical operations.\n",
      "To enable the following instructions: SSE4.1 SSE4.2 AVX AVX2 FMA, in other operations, rebuild TensorFlow with the appropriate compiler flags.\n"
     ]
    },
    {
     "name": "stderr",
     "output_type": "stream",
     "text": [
      "2023-12-08 22:37:39.936405: I tensorflow/core/common_runtime/process_util.cc:146] Creating new thread pool with default inter op setting: 2. Tune using inter_op_parallelism_threads for best performance.\n"
     ]
    },
    {
     "name": "stdout",
     "output_type": "stream",
     "text": [
      "\r",
      "1/6 [====>.........................] - ETA: 0s - loss: 0.4249 - accuracy: 0.8125"
     ]
    },
    {
     "name": "stdout",
     "output_type": "stream",
     "text": [
      "\b\b\b\b\b\b\b\b\b\b\b\b\b\b\b\b\b\b\b\b\b\b\b\b\b\b\b\b\b\b\b\b\b\b\b\b\b\b\b\b\b\b\b\b\b\b\b\b\b\b\b\b\b\b\b\b\b\b\b\b\b\b\b\b\b\b\b\b\b\b\b\b\b\b\b\b\b\b\b\b\r",
      "5/6 [========================>.....] - ETA: 0s - loss: 0.4279 - accuracy: 0.8188"
     ]
    },
    {
     "name": "stdout",
     "output_type": "stream",
     "text": [
      "\b\b\b\b\b\b\b\b\b\b\b\b\b\b\b\b\b\b\b\b\b\b\b\b\b\b\b\b\b\b\b\b\b\b\b\b\b\b\b\b\b\b\b\b\b\b\b\b\b\b\b\b\b\b\b\b\b\b\b\b\b\b\b\b\b\b\b\b\b\b\b\b\b\b\b\b\b\b\b\b\r",
      "6/6 [==============================] - 0s 12ms/step - loss: 0.4250 - accuracy: 0.8156\n"
     ]
    }
   ],
   "source": [
    "import tensorflow as tf\n",
    "import pandas as pd\n",
    "import numpy as np\n",
    "from sklearn.model_selection import train_test_split\n",
    "\n",
    "with open('acc_of_handmade_nan_handling_model.txt', 'r') as handmade:\n",
    "    with open('acc_of_lr_nan_handling_model.txt', 'r') as lr:\n",
    "        hand_acc = float(handmade.readline())\n",
    "        lr_acc = float(lr.readline())\n",
    "        with open('estimate_acc', 'w') as est:\n",
    "            if hand_acc >= lr_acc:\n",
    "                df = pd.read_csv('/home/uncookie/Documents/titanic_pipeline/df_after_handmade.csv')\n",
    "                y = df['Survived']\n",
    "                df = df.loc[:, df.columns != 'Survived']\n",
    "                df = (df-df.mean())/df.std()\n",
    "                X_train, X_test, y_train, y_test = train_test_split(df, y, test_size=0.2, random_state=42)\n",
    "                model = tf.keras.models.load_model('custom_nan_model.keras')\n",
    "                results = model.evaluate(X_test, y_test)\n",
    "                est.write(f'{results[1]} точность своего варианта')\n",
    "            else:\n",
    "                df = pd.read_csv('/home/uncookie/Documents/titanic_pipeline/df_after_lr.csv')\n",
    "                y = df['Survived']\n",
    "                df = df.loc[:, df.columns != 'Survived']\n",
    "                df = (df-df.mean())/df.std()\n",
    "                X_train, X_test, y_train, y_test = train_test_split(df, y, test_size=0.2, random_state=42)\n",
    "                model = tf.keras.models.load_model('lr_nan_model.keras')\n",
    "                results = model.evaluate(X_test, y_test)\n",
    "                est.write(f'{results[1]} точность lr варианта')\n",
    "                "
   ]
  }
 ],
 "metadata": {
  "kernelspec": {
   "display_name": "Python 3 (ipykernel)",
   "language": "python",
   "name": "python3"
  },
  "language_info": {
   "codemirror_mode": {
    "name": "ipython",
    "version": 3
   },
   "file_extension": ".py",
   "mimetype": "text/x-python",
   "name": "python",
   "nbconvert_exporter": "python",
   "pygments_lexer": "ipython3",
   "version": "3.9.18"
  },
  "papermill": {
   "default_parameters": {},
   "duration": 3.842465,
   "end_time": "2023-12-08T19:37:40.878772",
   "environment_variables": {},
   "exception": null,
   "input_path": "/home/uncookie/Documents/titanic_pipeline/evaluate_with_best_variant.ipynb",
   "output_path": "/home/uncookie/Documents/titanic_pipeline/evaluate_with_best_variant.ipynb",
   "parameters": {},
   "start_time": "2023-12-08T19:37:37.036307",
   "version": "2.4.0"
  }
 },
 "nbformat": 4,
 "nbformat_minor": 5
}