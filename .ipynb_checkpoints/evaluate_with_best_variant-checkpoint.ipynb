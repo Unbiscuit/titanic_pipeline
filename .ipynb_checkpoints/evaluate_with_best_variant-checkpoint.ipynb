{
 "cells": [
  {
   "cell_type": "code",
   "execution_count": 1,
   "id": "2e2e90a3",
   "metadata": {
    "execution": {
     "iopub.execute_input": "2023-12-08T18:32:59.825876Z",
     "iopub.status.busy": "2023-12-08T18:32:59.824460Z",
     "iopub.status.idle": "2023-12-08T18:32:59.843947Z",
     "shell.execute_reply": "2023-12-08T18:32:59.841743Z"
    },
    "papermill": {
     "duration": 0.030827,
     "end_time": "2023-12-08T18:32:59.849646",
     "exception": false,
     "start_time": "2023-12-08T18:32:59.818819",
     "status": "completed"
    },
    "tags": []
   },
   "outputs": [],
   "source": [
    "import tensorflow as tf\n",
    "import pandas as pd\n",
    "import numpy as np\n",
    "from sklearn.model_selection import train_test_split\n",
    "\n",
    "with open('acc_of_handmade_nan_handling_model.txt', 'r') as handmade:\n",
    "    with open('acc_of_lr_nan_handling_model.txt', 'r') as lr:\n",
    "        hand_acc = float(handmade.readline())\n",
    "        lr_acc = float(lr.readline())\n",
    "        with open('estimate_acc', 'w') as est:\n",
    "            if hand_acc >= lr_acc:\n",
    "                df = pd.read_csv('/home/uncookie/Documents/titanic_pipeline/df_after_handmade.csv')\n",
    "                y = df['Survived']\n",
    "                df = df.loc[:, df.columns != 'Survived']\n",
    "                df = (df-df.mean())/df.std()\n",
    "                X_train, X_test, y_train, y_test = train_test_split(df, y, test_size=0.2, random_state=42)\n",
    "                model = tf.keras.models.load_model('custom_nan_model.keras')\n",
    "                results = model.evaluate(X_test, y_test)\n",
    "                est.write(f'{results[1]} точность своего варианта')\n",
    "            else:\n",
    "                df = pd.read_csv('/home/uncookie/Documents/titanic_pipeline/df_after_lr.csv')\n",
    "                y = df['Survived']\n",
    "                df = df.loc[:, df.columns != 'Survived']\n",
    "                df = (df-df.mean())/df.std()\n",
    "                X_train, X_test, y_train, y_test = train_test_split(df, y, test_size=0.2, random_state=42)\n",
    "                model = tf.keras.models.load_model('lr_nan_model.keras')\n",
    "                results = model.evaluate(X_test, y_test)\n",
    "                est.write(f'{results[1]} точность lr варианта')\n",
    "                "
   ]
  }
 ],
 "metadata": {
  "kernelspec": {
   "display_name": "Python 3 (ipykernel)",
   "language": "python",
   "name": "python3"
  },
  "language_info": {
   "codemirror_mode": {
    "name": "ipython",
    "version": 3
   },
   "file_extension": ".py",
   "mimetype": "text/x-python",
   "name": "python",
   "nbconvert_exporter": "python",
   "pygments_lexer": "ipython3",
   "version": "3.9.18"
  },
  "papermill": {
   "default_parameters": {},
   "duration": 1.285197,
   "end_time": "2023-12-08T18:33:00.181220",
   "environment_variables": {},
   "exception": null,
   "input_path": "/home/uncookie/Documents/titanic_pipeline/evaluate_with_best_variant.ipynb",
   "output_path": "/home/uncookie/Documents/titanic_pipeline/evaluate_with_best_variant.ipynb",
   "parameters": {},
   "start_time": "2023-12-08T18:32:58.896023",
   "version": "2.4.0"
  }
 },
 "nbformat": 4,
 "nbformat_minor": 5
}
