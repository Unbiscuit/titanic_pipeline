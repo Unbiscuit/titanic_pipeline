{
 "cells": [
  {
   "cell_type": "code",
   "execution_count": 1,
   "id": "a5008deb",
   "metadata": {
    "execution": {
     "iopub.execute_input": "2023-12-08T18:32:48.255441Z",
     "iopub.status.busy": "2023-12-08T18:32:48.254764Z",
     "iopub.status.idle": "2023-12-08T18:32:48.676388Z",
     "shell.execute_reply": "2023-12-08T18:32:48.675833Z"
    },
    "papermill": {
     "duration": 0.431292,
     "end_time": "2023-12-08T18:32:48.677736",
     "exception": false,
     "start_time": "2023-12-08T18:32:48.246444",
     "status": "completed"
    },
    "tags": []
   },
   "outputs": [],
   "source": [
    "import pandas as pd\n",
    "import numpy as np"
   ]
  },
  {
   "cell_type": "code",
   "execution_count": 2,
   "id": "a3033a5b",
   "metadata": {
    "execution": {
     "iopub.execute_input": "2023-12-08T18:32:48.682178Z",
     "iopub.status.busy": "2023-12-08T18:32:48.681893Z",
     "iopub.status.idle": "2023-12-08T18:32:48.688395Z",
     "shell.execute_reply": "2023-12-08T18:32:48.687810Z"
    },
    "papermill": {
     "duration": 0.010663,
     "end_time": "2023-12-08T18:32:48.689947",
     "exception": false,
     "start_time": "2023-12-08T18:32:48.679284",
     "status": "completed"
    },
    "tags": []
   },
   "outputs": [],
   "source": [
    "df = pd.read_csv('/home/uncookie/Documents/titanic_pipeline/df_after_preprocessing.csv')"
   ]
  },
  {
   "cell_type": "code",
   "execution_count": 3,
   "id": "6f8d70b3",
   "metadata": {
    "execution": {
     "iopub.execute_input": "2023-12-08T18:32:48.695108Z",
     "iopub.status.busy": "2023-12-08T18:32:48.694925Z",
     "iopub.status.idle": "2023-12-08T18:32:48.699207Z",
     "shell.execute_reply": "2023-12-08T18:32:48.698676Z"
    },
    "papermill": {
     "duration": 0.007777,
     "end_time": "2023-12-08T18:32:48.700302",
     "exception": false,
     "start_time": "2023-12-08T18:32:48.692525",
     "status": "completed"
    },
    "tags": []
   },
   "outputs": [],
   "source": [
    "import random\n",
    "\n",
    "def fill_nan_based_on_column2(row):\n",
    "    if pd.isna(row['Cabin']):\n",
    "        if row['Pclass'] == 1:\n",
    "            return random.choice([7, 6, 5, 4, 3])\n",
    "        elif row['Pclass'] == 2:\n",
    "            return random.choice([4, 3, 2])\n",
    "        elif row['Pclass'] == 3:\n",
    "            return random.choice([4, 3, 2, 1])\n",
    "    else:\n",
    "        return row['Cabin']\n",
    "\n",
    "def fill_nan_with_values(df):\n",
    "    df['Age'] = df['Age'].fillna(df['Age'].mean())\n",
    "    df['Cabin'] = df.apply(fill_nan_based_on_column2, axis=1)\n",
    "\n",
    "    \n",
    "    return df"
   ]
  },
  {
   "cell_type": "code",
   "execution_count": 4,
   "id": "8128f337",
   "metadata": {
    "execution": {
     "iopub.execute_input": "2023-12-08T18:32:48.704493Z",
     "iopub.status.busy": "2023-12-08T18:32:48.704219Z",
     "iopub.status.idle": "2023-12-08T18:32:48.718618Z",
     "shell.execute_reply": "2023-12-08T18:32:48.717982Z"
    },
    "papermill": {
     "duration": 0.018325,
     "end_time": "2023-12-08T18:32:48.720057",
     "exception": false,
     "start_time": "2023-12-08T18:32:48.701732",
     "status": "completed"
    },
    "tags": []
   },
   "outputs": [],
   "source": [
    "df = fill_nan_with_values(df)\n",
    "df.to_csv(\"df_after_handmade.csv\", index=False)"
   ]
  },
  {
   "cell_type": "code",
   "execution_count": 5,
   "id": "58902f1d",
   "metadata": {
    "execution": {
     "iopub.execute_input": "2023-12-08T18:32:48.724440Z",
     "iopub.status.busy": "2023-12-08T18:32:48.724249Z",
     "iopub.status.idle": "2023-12-08T18:32:49.160392Z",
     "shell.execute_reply": "2023-12-08T18:32:49.159796Z"
    },
    "papermill": {
     "duration": 0.440234,
     "end_time": "2023-12-08T18:32:49.161750",
     "exception": false,
     "start_time": "2023-12-08T18:32:48.721516",
     "status": "completed"
    },
    "tags": []
   },
   "outputs": [],
   "source": [
    "import numpy as np\n",
    "from sklearn.model_selection import train_test_split\n",
    "\n",
    "y = df['Survived']\n",
    "df = df.loc[:, df.columns != 'Survived']"
   ]
  },
  {
   "cell_type": "code",
   "execution_count": 6,
   "id": "0063afa1",
   "metadata": {
    "execution": {
     "iopub.execute_input": "2023-12-08T18:32:49.166009Z",
     "iopub.status.busy": "2023-12-08T18:32:49.165674Z",
     "iopub.status.idle": "2023-12-08T18:32:49.173671Z",
     "shell.execute_reply": "2023-12-08T18:32:49.173064Z"
    },
    "papermill": {
     "duration": 0.012028,
     "end_time": "2023-12-08T18:32:49.175230",
     "exception": false,
     "start_time": "2023-12-08T18:32:49.163202",
     "status": "completed"
    },
    "tags": []
   },
   "outputs": [],
   "source": [
    "df = (df-df.mean())/df.std()\n",
    "\n",
    "X_train, X_test, y_train, y_test = train_test_split(df, y, test_size=0.2, random_state=42)"
   ]
  },
  {
   "cell_type": "code",
   "execution_count": 7,
   "id": "856147b8",
   "metadata": {
    "execution": {
     "iopub.execute_input": "2023-12-08T18:32:49.180779Z",
     "iopub.status.busy": "2023-12-08T18:32:49.180470Z",
     "iopub.status.idle": "2023-12-08T18:32:58.200792Z",
     "shell.execute_reply": "2023-12-08T18:32:58.199596Z"
    },
    "papermill": {
     "duration": 9.025679,
     "end_time": "2023-12-08T18:32:58.203670",
     "exception": false,
     "start_time": "2023-12-08T18:32:49.177991",
     "status": "completed"
    },
    "tags": []
   },
   "outputs": [
    {
     "name": "stderr",
     "output_type": "stream",
     "text": [
      "2023-12-08 21:32:49.422220: I tensorflow/core/platform/cpu_feature_guard.cc:182] This TensorFlow binary is optimized to use available CPU instructions in performance-critical operations.\n",
      "To enable the following instructions: SSE4.1 SSE4.2 AVX AVX2 FMA, in other operations, rebuild TensorFlow with the appropriate compiler flags.\n"
     ]
    },
    {
     "name": "stdout",
     "output_type": "stream",
     "text": [
      "Epoch 1/20\n"
     ]
    },
    {
     "name": "stderr",
     "output_type": "stream",
     "text": [
      "2023-12-08 21:32:50.614154: I tensorflow/core/common_runtime/process_util.cc:146] Creating new thread pool with default inter op setting: 2. Tune using inter_op_parallelism_threads for best performance.\n"
     ]
    },
    {
     "name": "stdout",
     "output_type": "stream",
     "text": [
      "36/36 [==============================] - 2s 26ms/step - loss: 0.6838 - accuracy: 0.5782 - auc: 0.5167 - precision_m: 0.4852 - recall_m: 0.3310 - sensitivity_at_specificity: 0.4771 - specificity_at_sensitivity: 0.4929 - f1_m: 0.3691 - val_loss: 0.6154 - val_accuracy: 0.7483 - val_auc: 0.7306 - val_precision_m: 0.7500 - val_recall_m: 0.4066 - val_sensitivity_at_specificity: 0.8200 - val_specificity_at_sensitivity: 0.7742 - val_f1_m: 0.5112\n",
      "Epoch 2/20\n",
      "36/36 [==============================] - 0s 13ms/step - loss: 0.5848 - accuracy: 0.7276 - auc: 0.7822 - precision_m: 0.7782 - recall_m: 0.3266 - sensitivity_at_specificity: 0.8303 - specificity_at_sensitivity: 0.9117 - f1_m: 0.4425 - val_loss: 0.5384 - val_accuracy: 0.7692 - val_auc: 0.8626 - val_precision_m: 0.8796 - val_recall_m: 0.4632 - val_sensitivity_at_specificity: 0.9200 - val_specificity_at_sensitivity: 0.9247 - val_f1_m: 0.5786\n",
      "Epoch 3/20\n",
      "36/36 [==============================] - 0s 11ms/step - loss: 0.5248 - accuracy: 0.7592 - auc: 0.8334 - precision_m: 0.8486 - recall_m: 0.4240 - sensitivity_at_specificity: 0.8532 - specificity_at_sensitivity: 0.9573 - f1_m: 0.5462 - val_loss: 0.4816 - val_accuracy: 0.8182 - val_auc: 0.8776 - val_precision_m: 0.7778 - val_recall_m: 0.6813 - val_sensitivity_at_specificity: 0.9400 - val_specificity_at_sensitivity: 0.9570 - val_f1_m: 0.6891\n",
      "Epoch 4/20\n",
      "36/36 [==============================] - 0s 11ms/step - loss: 0.4864 - accuracy: 0.7838 - auc: 0.8467 - precision_m: 0.8280 - recall_m: 0.5644 - sensitivity_at_specificity: 0.8716 - specificity_at_sensitivity: 0.9687 - f1_m: 0.6508 - val_loss: 0.4458 - val_accuracy: 0.8182 - val_auc: 0.8758 - val_precision_m: 0.7611 - val_recall_m: 0.6952 - val_sensitivity_at_specificity: 0.9000 - val_specificity_at_sensitivity: 0.9570 - val_f1_m: 0.6962\n",
      "Epoch 5/20\n",
      "36/36 [==============================] - 0s 12ms/step - loss: 0.4633 - accuracy: 0.7961 - auc: 0.8477 - precision_m: 0.7907 - recall_m: 0.5785 - sensitivity_at_specificity: 0.8761 - specificity_at_sensitivity: 0.9630 - f1_m: 0.6495 - val_loss: 0.4264 - val_accuracy: 0.8252 - val_auc: 0.8788 - val_precision_m: 0.7213 - val_recall_m: 0.7528 - val_sensitivity_at_specificity: 0.9000 - val_specificity_at_sensitivity: 0.9677 - val_f1_m: 0.7064\n",
      "Epoch 6/20\n",
      "36/36 [==============================] - 1s 14ms/step - loss: 0.4502 - accuracy: 0.8049 - auc: 0.8550 - precision_m: 0.8024 - recall_m: 0.6755 - sensitivity_at_specificity: 0.8761 - specificity_at_sensitivity: 0.9658 - f1_m: 0.7120 - val_loss: 0.4121 - val_accuracy: 0.8322 - val_auc: 0.8811 - val_precision_m: 0.7266 - val_recall_m: 0.7852 - val_sensitivity_at_specificity: 0.9000 - val_specificity_at_sensitivity: 0.9677 - val_f1_m: 0.7294\n",
      "Epoch 7/20\n",
      "36/36 [==============================] - 0s 11ms/step - loss: 0.4410 - accuracy: 0.8049 - auc: 0.8566 - precision_m: 0.7845 - recall_m: 0.6644 - sensitivity_at_specificity: 0.8945 - specificity_at_sensitivity: 0.9744 - f1_m: 0.7102 - val_loss: 0.4070 - val_accuracy: 0.8322 - val_auc: 0.8817 - val_precision_m: 0.7266 - val_recall_m: 0.7852 - val_sensitivity_at_specificity: 0.9000 - val_specificity_at_sensitivity: 0.9785 - val_f1_m: 0.7294\n",
      "Epoch 8/20\n",
      "36/36 [==============================] - 0s 11ms/step - loss: 0.4342 - accuracy: 0.8120 - auc: 0.8636 - precision_m: 0.8212 - recall_m: 0.6837 - sensitivity_at_specificity: 0.9083 - specificity_at_sensitivity: 0.9744 - f1_m: 0.7290 - val_loss: 0.4029 - val_accuracy: 0.8322 - val_auc: 0.8828 - val_precision_m: 0.7266 - val_recall_m: 0.7852 - val_sensitivity_at_specificity: 0.9000 - val_specificity_at_sensitivity: 0.9785 - val_f1_m: 0.7294\n",
      "Epoch 9/20\n",
      "36/36 [==============================] - 0s 12ms/step - loss: 0.4289 - accuracy: 0.8120 - auc: 0.8639 - precision_m: 0.7983 - recall_m: 0.6837 - sensitivity_at_specificity: 0.8991 - specificity_at_sensitivity: 0.9687 - f1_m: 0.7231 - val_loss: 0.3984 - val_accuracy: 0.8392 - val_auc: 0.8829 - val_precision_m: 0.7374 - val_recall_m: 0.7852 - val_sensitivity_at_specificity: 0.9000 - val_specificity_at_sensitivity: 0.9785 - val_f1_m: 0.7359\n",
      "Epoch 10/20\n",
      "36/36 [==============================] - 0s 13ms/step - loss: 0.4243 - accuracy: 0.8137 - auc: 0.8679 - precision_m: 0.7691 - recall_m: 0.6788 - sensitivity_at_specificity: 0.9128 - specificity_at_sensitivity: 0.9744 - f1_m: 0.7111 - val_loss: 0.4034 - val_accuracy: 0.8392 - val_auc: 0.8833 - val_precision_m: 0.7359 - val_recall_m: 0.8074 - val_sensitivity_at_specificity: 0.9000 - val_specificity_at_sensitivity: 0.9785 - val_f1_m: 0.7479\n",
      "Epoch 11/20\n",
      "36/36 [==============================] - 0s 11ms/step - loss: 0.4221 - accuracy: 0.8137 - auc: 0.8683 - precision_m: 0.7919 - recall_m: 0.6978 - sensitivity_at_specificity: 0.9128 - specificity_at_sensitivity: 0.9744 - f1_m: 0.7252 - val_loss: 0.3959 - val_accuracy: 0.8392 - val_auc: 0.8826 - val_precision_m: 0.7282 - val_recall_m: 0.7889 - val_sensitivity_at_specificity: 0.9000 - val_specificity_at_sensitivity: 0.9892 - val_f1_m: 0.7328\n",
      "Epoch 12/20\n",
      "36/36 [==============================] - 1s 18ms/step - loss: 0.4197 - accuracy: 0.8190 - auc: 0.8691 - precision_m: 0.8095 - recall_m: 0.7118 - sensitivity_at_specificity: 0.9266 - specificity_at_sensitivity: 0.9801 - f1_m: 0.7389 - val_loss: 0.3955 - val_accuracy: 0.8392 - val_auc: 0.8820 - val_precision_m: 0.7282 - val_recall_m: 0.7889 - val_sensitivity_at_specificity: 0.9000 - val_specificity_at_sensitivity: 0.9892 - val_f1_m: 0.7328\n",
      "Epoch 13/20\n",
      "36/36 [==============================] - 1s 15ms/step - loss: 0.4169 - accuracy: 0.8243 - auc: 0.8704 - precision_m: 0.8260 - recall_m: 0.7002 - sensitivity_at_specificity: 0.9220 - specificity_at_sensitivity: 0.9801 - f1_m: 0.7422 - val_loss: 0.3938 - val_accuracy: 0.8392 - val_auc: 0.8834 - val_precision_m: 0.7282 - val_recall_m: 0.7889 - val_sensitivity_at_specificity: 0.9000 - val_specificity_at_sensitivity: 0.9892 - val_f1_m: 0.7328\n"
     ]
    }
   ],
   "source": [
    "from tensorflow import keras\n",
    "from keras import backend as K\n",
    "from tensorflow.keras import layers\n",
    "\n",
    "model = keras.Sequential([\n",
    "    layers.Dense(32, activation=\"relu\"),\n",
    "    layers.Dense(16, activation=\"relu\"),\n",
    "    layers.Dense(1, activation=\"sigmoid\")\n",
    "])\n",
    "\n",
    "callbacks_list = [\n",
    "    keras.callbacks.EarlyStopping(\n",
    "        monitor=\"val_accuracy\",\n",
    "        patience=4,\n",
    "    ),\n",
    "    keras.callbacks.ModelCheckpoint(\n",
    "        filepath=\"checkpoint_path.keras\",\n",
    "        monitor=\"val_loss\",\n",
    "        save_best_only=True,\n",
    ")\n",
    "]\n",
    "\n",
    "model.compile(optimizer=\"rmsprop\", loss=\"binary_crossentropy\", metrics=['accuracy'])\n",
    "\n",
    "history = model.fit(X_train,\n",
    "                    y_train,\n",
    "                    epochs=20,\n",
    "                    callbacks=callbacks_list,\n",
    "                    batch_size=16,\n",
    "                    validation_split=0.2)"
   ]
  },
  {
   "cell_type": "code",
   "execution_count": 8,
   "id": "1677dd3e",
   "metadata": {
    "execution": {
     "iopub.execute_input": "2023-12-08T18:32:58.237059Z",
     "iopub.status.busy": "2023-12-08T18:32:58.236238Z",
     "iopub.status.idle": "2023-12-08T18:32:58.242413Z",
     "shell.execute_reply": "2023-12-08T18:32:58.241441Z"
    },
    "papermill": {
     "duration": 0.025585,
     "end_time": "2023-12-08T18:32:58.244723",
     "exception": false,
     "start_time": "2023-12-08T18:32:58.219138",
     "status": "completed"
    },
    "tags": []
   },
   "outputs": [],
   "source": [
    "model.save('custom_nan_model.keras')\n",
    "\n",
    "with open('acc_of_handmade_nan_handling_model.txt', 'w') as file:\n",
    "    history_dict = history.history\n",
    "    acc = history_dict['val_accuracy'][-1]\n",
    "    file.write(f'{acc}')"
   ]
  }
 ],
 "metadata": {
  "kernelspec": {
   "display_name": "Python 3 (ipykernel)",
   "language": "python",
   "name": "python3"
  },
  "language_info": {
   "codemirror_mode": {
    "name": "ipython",
    "version": 3
   },
   "file_extension": ".py",
   "mimetype": "text/x-python",
   "name": "python",
   "nbconvert_exporter": "python",
   "pygments_lexer": "ipython3",
   "version": "3.9.18"
  },
  "papermill": {
   "default_parameters": {},
   "duration": 11.489759,
   "end_time": "2023-12-08T18:32:58.879387",
   "environment_variables": {},
   "exception": null,
   "input_path": "/home/uncookie/Documents/titanic_pipeline/custom_nan_handling_and_nn_use.ipynb",
   "output_path": "/home/uncookie/Documents/titanic_pipeline/custom_nan_handling_and_nn_use.ipynb",
   "parameters": {},
   "start_time": "2023-12-08T18:32:47.389628",
   "version": "2.4.0"
  }
 },
 "nbformat": 4,
 "nbformat_minor": 5
}
