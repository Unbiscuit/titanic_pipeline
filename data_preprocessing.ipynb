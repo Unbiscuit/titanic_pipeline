{
 "cells": [
  {
   "cell_type": "code",
   "execution_count": 1,
   "id": "727bca17",
   "metadata": {
    "execution": {
     "iopub.execute_input": "2023-12-08T19:37:23.063501Z",
     "iopub.status.busy": "2023-12-08T19:37:23.062295Z",
     "iopub.status.idle": "2023-12-08T19:37:23.497951Z",
     "shell.execute_reply": "2023-12-08T19:37:23.497351Z"
    },
    "papermill": {
     "duration": 0.445333,
     "end_time": "2023-12-08T19:37:23.499308",
     "exception": false,
     "start_time": "2023-12-08T19:37:23.053975",
     "status": "completed"
    },
    "tags": []
   },
   "outputs": [],
   "source": [
    "import pandas as pd\n",
    "import numpy as np"
   ]
  },
  {
   "cell_type": "code",
   "execution_count": 2,
   "id": "37ec1ccc",
   "metadata": {
    "execution": {
     "iopub.execute_input": "2023-12-08T19:37:23.502922Z",
     "iopub.status.busy": "2023-12-08T19:37:23.502374Z",
     "iopub.status.idle": "2023-12-08T19:37:23.508465Z",
     "shell.execute_reply": "2023-12-08T19:37:23.507901Z"
    },
    "papermill": {
     "duration": 0.009259,
     "end_time": "2023-12-08T19:37:23.509788",
     "exception": false,
     "start_time": "2023-12-08T19:37:23.500529",
     "status": "completed"
    },
    "tags": []
   },
   "outputs": [],
   "source": [
    "df = pd.read_csv('/home/uncookie/Documents/datasets/titanic/train.csv')"
   ]
  },
  {
   "cell_type": "code",
   "execution_count": 3,
   "id": "61c8088e",
   "metadata": {
    "execution": {
     "iopub.execute_input": "2023-12-08T19:37:23.512934Z",
     "iopub.status.busy": "2023-12-08T19:37:23.512674Z",
     "iopub.status.idle": "2023-12-08T19:37:23.518136Z",
     "shell.execute_reply": "2023-12-08T19:37:23.517537Z"
    },
    "papermill": {
     "duration": 0.008797,
     "end_time": "2023-12-08T19:37:23.519673",
     "exception": false,
     "start_time": "2023-12-08T19:37:23.510876",
     "status": "completed"
    },
    "tags": []
   },
   "outputs": [],
   "source": [
    "df = df.loc[:, df.columns != 'Name']\n",
    "df = df.loc[:, df.columns != 'Embarked']\n",
    "df = df.loc[:, df.columns != 'PassengerId']\n",
    "df = df.loc[:, df.columns != 'Ticket']"
   ]
  },
  {
   "cell_type": "code",
   "execution_count": 4,
   "id": "79a29978",
   "metadata": {
    "execution": {
     "iopub.execute_input": "2023-12-08T19:37:23.523354Z",
     "iopub.status.busy": "2023-12-08T19:37:23.523115Z",
     "iopub.status.idle": "2023-12-08T19:37:23.529772Z",
     "shell.execute_reply": "2023-12-08T19:37:23.528787Z"
    },
    "papermill": {
     "duration": 0.010046,
     "end_time": "2023-12-08T19:37:23.531294",
     "exception": false,
     "start_time": "2023-12-08T19:37:23.521248",
     "status": "completed"
    },
    "tags": []
   },
   "outputs": [],
   "source": [
    "df['Sex'] = pd.factorize(df['Sex'])[0]\n",
    "\n",
    "letter_to_index = {'G': 1, 'F': 2, 'E': 3, 'D': 4, 'C': 5, 'B': 6, 'A': 7}\n",
    "df['Cabin'] = df['Cabin'].map(lambda x: letter_to_index.get(x[0], np.nan) if pd.notna(x) else np.nan)"
   ]
  },
  {
   "cell_type": "code",
   "execution_count": 5,
   "id": "6867334a",
   "metadata": {
    "execution": {
     "iopub.execute_input": "2023-12-08T19:37:23.535362Z",
     "iopub.status.busy": "2023-12-08T19:37:23.534843Z",
     "iopub.status.idle": "2023-12-08T19:37:23.541745Z",
     "shell.execute_reply": "2023-12-08T19:37:23.541161Z"
    },
    "papermill": {
     "duration": 0.00982,
     "end_time": "2023-12-08T19:37:23.542914",
     "exception": false,
     "start_time": "2023-12-08T19:37:23.533094",
     "status": "completed"
    },
    "tags": []
   },
   "outputs": [],
   "source": [
    "df.to_csv(\"df_after_preprocessing.csv\", index=False)  "
   ]
  }
 ],
 "metadata": {
  "kernelspec": {
   "display_name": "Python 3 (ipykernel)",
   "language": "python",
   "name": "python3"
  },
  "language_info": {
   "codemirror_mode": {
    "name": "ipython",
    "version": 3
   },
   "file_extension": ".py",
   "mimetype": "text/x-python",
   "name": "python",
   "nbconvert_exporter": "python",
   "pygments_lexer": "ipython3",
   "version": "3.9.18"
  },
  "papermill": {
   "default_parameters": {},
   "duration": 1.94921,
   "end_time": "2023-12-08T19:37:23.864061",
   "environment_variables": {},
   "exception": null,
   "input_path": "/home/uncookie/Documents/titanic_pipeline/data_preprocessing.ipynb",
   "output_path": "/home/uncookie/Documents/titanic_pipeline/data_preprocessing.ipynb",
   "parameters": {},
   "start_time": "2023-12-08T19:37:21.914851",
   "version": "2.4.0"
  }
 },
 "nbformat": 4,
 "nbformat_minor": 5
}