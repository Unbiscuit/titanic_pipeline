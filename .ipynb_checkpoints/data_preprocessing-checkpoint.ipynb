{
 "cells": [
  {
   "cell_type": "code",
   "execution_count": 1,
   "id": "727bca17",
   "metadata": {
    "execution": {
     "iopub.execute_input": "2023-12-08T18:32:37.280525Z",
     "iopub.status.busy": "2023-12-08T18:32:37.279747Z",
     "iopub.status.idle": "2023-12-08T18:32:37.718834Z",
     "shell.execute_reply": "2023-12-08T18:32:37.718233Z"
    },
    "papermill": {
     "duration": 0.448582,
     "end_time": "2023-12-08T18:32:37.720169",
     "exception": false,
     "start_time": "2023-12-08T18:32:37.271587",
     "status": "completed"
    },
    "tags": []
   },
   "outputs": [],
   "source": [
    "import pandas as pd\n",
    "import numpy as np"
   ]
  },
  {
   "cell_type": "code",
   "execution_count": 2,
   "id": "37ec1ccc",
   "metadata": {
    "execution": {
     "iopub.execute_input": "2023-12-08T18:32:37.723555Z",
     "iopub.status.busy": "2023-12-08T18:32:37.723318Z",
     "iopub.status.idle": "2023-12-08T18:32:37.729423Z",
     "shell.execute_reply": "2023-12-08T18:32:37.728771Z"
    },
    "papermill": {
     "duration": 0.009215,
     "end_time": "2023-12-08T18:32:37.730701",
     "exception": false,
     "start_time": "2023-12-08T18:32:37.721486",
     "status": "completed"
    },
    "tags": []
   },
   "outputs": [],
   "source": [
    "df = pd.read_csv('/home/uncookie/Documents/datasets/titanic/train.csv')"
   ]
  },
  {
   "cell_type": "code",
   "execution_count": 3,
   "id": "61c8088e",
   "metadata": {
    "execution": {
     "iopub.execute_input": "2023-12-08T18:32:37.734449Z",
     "iopub.status.busy": "2023-12-08T18:32:37.733791Z",
     "iopub.status.idle": "2023-12-08T18:32:37.739128Z",
     "shell.execute_reply": "2023-12-08T18:32:37.738632Z"
    },
    "papermill": {
     "duration": 0.008874,
     "end_time": "2023-12-08T18:32:37.740614",
     "exception": false,
     "start_time": "2023-12-08T18:32:37.731740",
     "status": "completed"
    },
    "tags": []
   },
   "outputs": [],
   "source": [
    "df = df.loc[:, df.columns != 'Name']\n",
    "df = df.loc[:, df.columns != 'Embarked']\n",
    "df = df.loc[:, df.columns != 'PassengerId']\n",
    "df = df.loc[:, df.columns != 'Ticket']"
   ]
  },
  {
   "cell_type": "code",
   "execution_count": 4,
   "id": "79a29978",
   "metadata": {
    "execution": {
     "iopub.execute_input": "2023-12-08T18:32:37.745332Z",
     "iopub.status.busy": "2023-12-08T18:32:37.745113Z",
     "iopub.status.idle": "2023-12-08T18:32:37.752787Z",
     "shell.execute_reply": "2023-12-08T18:32:37.752106Z"
    },
    "papermill": {
     "duration": 0.011933,
     "end_time": "2023-12-08T18:32:37.754372",
     "exception": false,
     "start_time": "2023-12-08T18:32:37.742439",
     "status": "completed"
    },
    "tags": []
   },
   "outputs": [],
   "source": [
    "df['Sex'] = pd.factorize(df['Sex'])[0]\n",
    "\n",
    "letter_to_index = {'G': 1, 'F': 2, 'E': 3, 'D': 4, 'C': 5, 'B': 6, 'A': 7}\n",
    "df['Cabin'] = df['Cabin'].map(lambda x: letter_to_index.get(x[0], np.nan) if pd.notna(x) else np.nan)"
   ]
  },
  {
   "cell_type": "code",
   "execution_count": 5,
   "id": "6867334a",
   "metadata": {
    "execution": {
     "iopub.execute_input": "2023-12-08T18:32:37.757637Z",
     "iopub.status.busy": "2023-12-08T18:32:37.757424Z",
     "iopub.status.idle": "2023-12-08T18:32:37.766615Z",
     "shell.execute_reply": "2023-12-08T18:32:37.765815Z"
    },
    "papermill": {
     "duration": 0.013434,
     "end_time": "2023-12-08T18:32:37.768933",
     "exception": false,
     "start_time": "2023-12-08T18:32:37.755499",
     "status": "completed"
    },
    "tags": []
   },
   "outputs": [],
   "source": [
    "df.to_csv(\"df_after_preprocessing.csv\", index=False)  "
   ]
  }
 ],
 "metadata": {
  "kernelspec": {
   "display_name": "Python 3 (ipykernel)",
   "language": "python",
   "name": "python3"
  },
  "language_info": {
   "codemirror_mode": {
    "name": "ipython",
    "version": 3
   },
   "file_extension": ".py",
   "mimetype": "text/x-python",
   "name": "python",
   "nbconvert_exporter": "python",
   "pygments_lexer": "ipython3",
   "version": "3.9.18"
  },
  "papermill": {
   "default_parameters": {},
   "duration": 1.933571,
   "end_time": "2023-12-08T18:32:38.192109",
   "environment_variables": {},
   "exception": null,
   "input_path": "/home/uncookie/Documents/titanic_pipeline/data_preprocessing.ipynb",
   "output_path": "/home/uncookie/Documents/titanic_pipeline/data_preprocessing.ipynb",
   "parameters": {},
   "start_time": "2023-12-08T18:32:36.258538",
   "version": "2.4.0"
  }
 },
 "nbformat": 4,
 "nbformat_minor": 5
}
